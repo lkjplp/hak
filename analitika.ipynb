{
 "cells": [
  {
   "cell_type": "code",
   "execution_count": 1,
   "metadata": {},
   "outputs": [],
   "source": [
    "import pandas as pd\n",
    "import numpy as np"
   ]
  },
  {
   "cell_type": "code",
   "execution_count": 2,
   "metadata": {},
   "outputs": [],
   "source": [
    "df = pd.read_csv(\"train_zip.csv\")"
   ]
  },
  {
   "cell_type": "code",
   "execution_count": 3,
   "metadata": {},
   "outputs": [
    {
     "data": {
      "text/html": [
       "<div>\n",
       "<style scoped>\n",
       "    .dataframe tbody tr th:only-of-type {\n",
       "        vertical-align: middle;\n",
       "    }\n",
       "\n",
       "    .dataframe tbody tr th {\n",
       "        vertical-align: top;\n",
       "    }\n",
       "\n",
       "    .dataframe thead th {\n",
       "        text-align: right;\n",
       "    }\n",
       "</style>\n",
       "<table border=\"1\" class=\"dataframe\">\n",
       "  <thead>\n",
       "    <tr style=\"text-align: right;\">\n",
       "      <th></th>\n",
       "      <th>Unnamed: 0</th>\n",
       "      <th>slctn_nmbr</th>\n",
       "      <th>client_id</th>\n",
       "      <th>npo_account_id</th>\n",
       "      <th>npo_accnts_nmbr</th>\n",
       "      <th>pmnts_type</th>\n",
       "      <th>year</th>\n",
       "      <th>quarter</th>\n",
       "      <th>gender</th>\n",
       "      <th>age</th>\n",
       "      <th>...</th>\n",
       "      <th>lk</th>\n",
       "      <th>assignee_npo</th>\n",
       "      <th>assignee_ops</th>\n",
       "      <th>postal_code</th>\n",
       "      <th>region</th>\n",
       "      <th>citizen</th>\n",
       "      <th>fact_addrss</th>\n",
       "      <th>appl_mrkr</th>\n",
       "      <th>evry_qrtr_pmnt</th>\n",
       "      <th>churn</th>\n",
       "    </tr>\n",
       "  </thead>\n",
       "  <tbody>\n",
       "    <tr>\n",
       "      <th>0</th>\n",
       "      <td>1812523</td>\n",
       "      <td>0</td>\n",
       "      <td>0x39CE9F19213F5D498775ABA329A944CD</td>\n",
       "      <td>0xB492A0893AF5C042A81AB98FFBF96B1D</td>\n",
       "      <td>2</td>\n",
       "      <td>1</td>\n",
       "      <td>2015</td>\n",
       "      <td>2015Q2</td>\n",
       "      <td>-1</td>\n",
       "      <td>41</td>\n",
       "      <td>...</td>\n",
       "      <td>-1</td>\n",
       "      <td>-1</td>\n",
       "      <td>-1</td>\n",
       "      <td>398017.0</td>\n",
       "      <td>ЛИПЕЦКАЯ ОБЛ</td>\n",
       "      <td>1</td>\n",
       "      <td>1</td>\n",
       "      <td>0</td>\n",
       "      <td>1</td>\n",
       "      <td>0</td>\n",
       "    </tr>\n",
       "    <tr>\n",
       "      <th>1</th>\n",
       "      <td>1940300</td>\n",
       "      <td>1</td>\n",
       "      <td>0xE886F2AC4042F947B94774E65DFC49E1</td>\n",
       "      <td>0x30405A5ED70D134DBACEA479F4CA1E4A</td>\n",
       "      <td>1</td>\n",
       "      <td>2</td>\n",
       "      <td>2015</td>\n",
       "      <td>2015Q4</td>\n",
       "      <td>-1</td>\n",
       "      <td>39</td>\n",
       "      <td>...</td>\n",
       "      <td>1</td>\n",
       "      <td>-1</td>\n",
       "      <td>-1</td>\n",
       "      <td>141006.0</td>\n",
       "      <td>МОСКОВСКАЯ ОБЛ</td>\n",
       "      <td>1</td>\n",
       "      <td>-1</td>\n",
       "      <td>0</td>\n",
       "      <td>0</td>\n",
       "      <td>0</td>\n",
       "    </tr>\n",
       "    <tr>\n",
       "      <th>2</th>\n",
       "      <td>3110992</td>\n",
       "      <td>2</td>\n",
       "      <td>0xB8610F684555D14E9D0819F03F69338B</td>\n",
       "      <td>0x810C005056AB57EC11EBA287AC552DD7</td>\n",
       "      <td>2</td>\n",
       "      <td>1</td>\n",
       "      <td>2022</td>\n",
       "      <td>2022Q2</td>\n",
       "      <td>1</td>\n",
       "      <td>47</td>\n",
       "      <td>...</td>\n",
       "      <td>1</td>\n",
       "      <td>-1</td>\n",
       "      <td>-1</td>\n",
       "      <td>162626.0</td>\n",
       "      <td>ВОЛОГОДСКАЯ ОБЛ</td>\n",
       "      <td>1</td>\n",
       "      <td>1</td>\n",
       "      <td>0</td>\n",
       "      <td>1</td>\n",
       "      <td>0</td>\n",
       "    </tr>\n",
       "    <tr>\n",
       "      <th>3</th>\n",
       "      <td>2855815</td>\n",
       "      <td>0</td>\n",
       "      <td>0xECA4660A88958844BC707D88DD13FB44</td>\n",
       "      <td>0x3225ED4DFFCD4042BB36FE353B42ACBD</td>\n",
       "      <td>1</td>\n",
       "      <td>2</td>\n",
       "      <td>2020</td>\n",
       "      <td>2020Q4</td>\n",
       "      <td>1</td>\n",
       "      <td>48</td>\n",
       "      <td>...</td>\n",
       "      <td>-1</td>\n",
       "      <td>-1</td>\n",
       "      <td>-1</td>\n",
       "      <td>398036.0</td>\n",
       "      <td>ЛИПЕЦКАЯ ОБЛ</td>\n",
       "      <td>1</td>\n",
       "      <td>1</td>\n",
       "      <td>0</td>\n",
       "      <td>0</td>\n",
       "      <td>0</td>\n",
       "    </tr>\n",
       "    <tr>\n",
       "      <th>4</th>\n",
       "      <td>2778810</td>\n",
       "      <td>2</td>\n",
       "      <td>0x6FB0DAB05D8EC24DABD333F2DC415270</td>\n",
       "      <td>0x58998F4E17293D49953B9943F2B794E3</td>\n",
       "      <td>1</td>\n",
       "      <td>2</td>\n",
       "      <td>2012</td>\n",
       "      <td>2012Q4</td>\n",
       "      <td>1</td>\n",
       "      <td>38</td>\n",
       "      <td>...</td>\n",
       "      <td>-1</td>\n",
       "      <td>-1</td>\n",
       "      <td>-1</td>\n",
       "      <td>162609.0</td>\n",
       "      <td>ВОЛОГОДСКАЯ ОБЛ</td>\n",
       "      <td>1</td>\n",
       "      <td>1</td>\n",
       "      <td>0</td>\n",
       "      <td>0</td>\n",
       "      <td>0</td>\n",
       "    </tr>\n",
       "  </tbody>\n",
       "</table>\n",
       "<p>5 rows × 43 columns</p>\n",
       "</div>"
      ],
      "text/plain": [
       "   Unnamed: 0  slctn_nmbr                           client_id  \\\n",
       "0     1812523           0  0x39CE9F19213F5D498775ABA329A944CD   \n",
       "1     1940300           1  0xE886F2AC4042F947B94774E65DFC49E1   \n",
       "2     3110992           2  0xB8610F684555D14E9D0819F03F69338B   \n",
       "3     2855815           0  0xECA4660A88958844BC707D88DD13FB44   \n",
       "4     2778810           2  0x6FB0DAB05D8EC24DABD333F2DC415270   \n",
       "\n",
       "                       npo_account_id  npo_accnts_nmbr  pmnts_type  year  \\\n",
       "0  0xB492A0893AF5C042A81AB98FFBF96B1D                2           1  2015   \n",
       "1  0x30405A5ED70D134DBACEA479F4CA1E4A                1           2  2015   \n",
       "2  0x810C005056AB57EC11EBA287AC552DD7                2           1  2022   \n",
       "3  0x3225ED4DFFCD4042BB36FE353B42ACBD                1           2  2020   \n",
       "4  0x58998F4E17293D49953B9943F2B794E3                1           2  2012   \n",
       "\n",
       "  quarter  gender  age  ...  lk  assignee_npo  assignee_ops  postal_code  \\\n",
       "0  2015Q2      -1   41  ...  -1            -1            -1     398017.0   \n",
       "1  2015Q4      -1   39  ...   1            -1            -1     141006.0   \n",
       "2  2022Q2       1   47  ...   1            -1            -1     162626.0   \n",
       "3  2020Q4       1   48  ...  -1            -1            -1     398036.0   \n",
       "4  2012Q4       1   38  ...  -1            -1            -1     162609.0   \n",
       "\n",
       "            region  citizen fact_addrss appl_mrkr  evry_qrtr_pmnt  churn  \n",
       "0     ЛИПЕЦКАЯ ОБЛ        1           1         0               1      0  \n",
       "1   МОСКОВСКАЯ ОБЛ        1          -1         0               0      0  \n",
       "2  ВОЛОГОДСКАЯ ОБЛ        1           1         0               1      0  \n",
       "3     ЛИПЕЦКАЯ ОБЛ        1           1         0               0      0  \n",
       "4  ВОЛОГОДСКАЯ ОБЛ        1           1         0               0      0  \n",
       "\n",
       "[5 rows x 43 columns]"
      ]
     },
     "execution_count": 3,
     "metadata": {},
     "output_type": "execute_result"
    }
   ],
   "source": [
    "df.head()"
   ]
  },
  {
   "cell_type": "code",
   "execution_count": 31,
   "metadata": {},
   "outputs": [],
   "source": [
    "nmbr = df.query('year > 2012 and year < 2023').groupby('year').agg({'pmnts_nmbr_per_year' : 'sum'}).reset_index()"
   ]
  },
  {
   "cell_type": "code",
   "execution_count": 30,
   "metadata": {},
   "outputs": [],
   "source": [
    "s = df.query('year > 2012 and year < 2023').groupby('year').agg({'pmnts_sum_per_year' : 'sum'}).reset_index()"
   ]
  },
  {
   "cell_type": "code",
   "execution_count": 7,
   "metadata": {},
   "outputs": [
    {
     "name": "stdout",
     "output_type": "stream",
     "text": [
      "5158.350000000\n"
     ]
    }
   ],
   "source": [
    "number_in_scientific_notation = 5.158350e+03\n",
    "number_in_decimal = \"{:.9f}\".format(number_in_scientific_notation)\n",
    "\n",
    "print(number_in_decimal)  "
   ]
  },
  {
   "cell_type": "code",
   "execution_count": 36,
   "metadata": {},
   "outputs": [],
   "source": [
    "churn = df.query('year > 2012 and year < 2023 and churn == 0').groupby('year').agg({'churn' : 'count'}).reset_index()"
   ]
  },
  {
   "cell_type": "code",
   "execution_count": 29,
   "metadata": {},
   "outputs": [],
   "source": [
    "all = df.query('year > 2012 and year < 2023').groupby('year').agg({'churn' : 'count'}).reset_index()"
   ]
  },
  {
   "cell_type": "code",
   "execution_count": 37,
   "metadata": {},
   "outputs": [],
   "source": [
    "new = nmbr.merge(s.merge(all.merge(churn, on='year'), on='year') , on='year')"
   ]
  },
  {
   "cell_type": "code",
   "execution_count": 39,
   "metadata": {},
   "outputs": [],
   "source": [
    "new['loyl'] = (new.churn_y / new.churn_x) * 100"
   ]
  },
  {
   "cell_type": "code",
   "execution_count": 41,
   "metadata": {},
   "outputs": [],
   "source": [
    "new.drop(['churn_x', 'churn_y'], axis=1, inplace=True)"
   ]
  },
  {
   "cell_type": "code",
   "execution_count": 44,
   "metadata": {},
   "outputs": [],
   "source": [
    "new['loyl_din'] = new['loyl'].pct_change() * 100"
   ]
  },
  {
   "cell_type": "code",
   "execution_count": 46,
   "metadata": {},
   "outputs": [],
   "source": [
    "new.loyl_din = new.loyl_din.fillna(0)"
   ]
  },
  {
   "cell_type": "code",
   "execution_count": 48,
   "metadata": {},
   "outputs": [],
   "source": [
    "new['pmnts_nmbr_din'] = new['pmnts_nmbr_per_year'].pct_change() * 100\n",
    "new.pmnts_nmbr_din = new.pmnts_nmbr_din.fillna(0)\n",
    "new['pmnts_sum_din'] = new['pmnts_sum_per_year'].pct_change() * 100\n",
    "new.pmnts_sum_din = new.pmnts_sum_din.fillna(0)"
   ]
  },
  {
   "cell_type": "code",
   "execution_count": 55,
   "metadata": {},
   "outputs": [],
   "source": [
    "new.rename(columns=({'year' : 'name', 'pmnts_nmbr_per_year' : 'pmnts_nmbr', 'pmnts_sum_per_year' : 'pmnts_sum'}), inplace=True)"
   ]
  },
  {
   "cell_type": "code",
   "execution_count": 58,
   "metadata": {},
   "outputs": [],
   "source": [
    "new_order = ['name', 'loyl_din', 'pmnts_nmbr_din', 'pmnts_sum_din' , 'loyl', 'pmnts_nmbr' , 'pmnts_sum']"
   ]
  },
  {
   "cell_type": "code",
   "execution_count": 59,
   "metadata": {},
   "outputs": [
    {
     "data": {
      "text/html": [
       "<div>\n",
       "<style scoped>\n",
       "    .dataframe tbody tr th:only-of-type {\n",
       "        vertical-align: middle;\n",
       "    }\n",
       "\n",
       "    .dataframe tbody tr th {\n",
       "        vertical-align: top;\n",
       "    }\n",
       "\n",
       "    .dataframe thead th {\n",
       "        text-align: right;\n",
       "    }\n",
       "</style>\n",
       "<table border=\"1\" class=\"dataframe\">\n",
       "  <thead>\n",
       "    <tr style=\"text-align: right;\">\n",
       "      <th></th>\n",
       "      <th>name</th>\n",
       "      <th>loyl_din</th>\n",
       "      <th>pmnts_nmbr_din</th>\n",
       "      <th>pmnts_sum_din</th>\n",
       "      <th>loyl</th>\n",
       "      <th>pmnts_nmbr</th>\n",
       "      <th>pmnts_sum</th>\n",
       "    </tr>\n",
       "  </thead>\n",
       "  <tbody>\n",
       "    <tr>\n",
       "      <th>0</th>\n",
       "      <td>2013</td>\n",
       "      <td>0.000000</td>\n",
       "      <td>0.000000</td>\n",
       "      <td>0.000000</td>\n",
       "      <td>97.665370</td>\n",
       "      <td>39263</td>\n",
       "      <td>5.186857e+07</td>\n",
       "    </tr>\n",
       "    <tr>\n",
       "      <th>1</th>\n",
       "      <td>2014</td>\n",
       "      <td>0.411879</td>\n",
       "      <td>-11.738787</td>\n",
       "      <td>19.783551</td>\n",
       "      <td>98.067633</td>\n",
       "      <td>34654</td>\n",
       "      <td>6.213001e+07</td>\n",
       "    </tr>\n",
       "    <tr>\n",
       "      <th>2</th>\n",
       "      <td>2015</td>\n",
       "      <td>0.258531</td>\n",
       "      <td>8.902291</td>\n",
       "      <td>13.574433</td>\n",
       "      <td>98.321168</td>\n",
       "      <td>37739</td>\n",
       "      <td>7.056381e+07</td>\n",
       "    </tr>\n",
       "    <tr>\n",
       "      <th>3</th>\n",
       "      <td>2016</td>\n",
       "      <td>-0.078743</td>\n",
       "      <td>11.004531</td>\n",
       "      <td>38.083161</td>\n",
       "      <td>98.243747</td>\n",
       "      <td>41892</td>\n",
       "      <td>9.743674e+07</td>\n",
       "    </tr>\n",
       "    <tr>\n",
       "      <th>4</th>\n",
       "      <td>2017</td>\n",
       "      <td>-0.304700</td>\n",
       "      <td>18.793564</td>\n",
       "      <td>37.020180</td>\n",
       "      <td>97.944398</td>\n",
       "      <td>49765</td>\n",
       "      <td>1.335080e+08</td>\n",
       "    </tr>\n",
       "    <tr>\n",
       "      <th>5</th>\n",
       "      <td>2018</td>\n",
       "      <td>0.542860</td>\n",
       "      <td>10.396865</td>\n",
       "      <td>18.848835</td>\n",
       "      <td>98.476099</td>\n",
       "      <td>54939</td>\n",
       "      <td>1.586727e+08</td>\n",
       "    </tr>\n",
       "    <tr>\n",
       "      <th>6</th>\n",
       "      <td>2019</td>\n",
       "      <td>0.808372</td>\n",
       "      <td>3.094341</td>\n",
       "      <td>20.206625</td>\n",
       "      <td>99.272152</td>\n",
       "      <td>56639</td>\n",
       "      <td>1.907351e+08</td>\n",
       "    </tr>\n",
       "    <tr>\n",
       "      <th>7</th>\n",
       "      <td>2020</td>\n",
       "      <td>-0.855711</td>\n",
       "      <td>-1.221773</td>\n",
       "      <td>15.148304</td>\n",
       "      <td>98.422669</td>\n",
       "      <td>55947</td>\n",
       "      <td>2.196282e+08</td>\n",
       "    </tr>\n",
       "    <tr>\n",
       "      <th>8</th>\n",
       "      <td>2021</td>\n",
       "      <td>-0.185400</td>\n",
       "      <td>10.472411</td>\n",
       "      <td>6.743915</td>\n",
       "      <td>98.240193</td>\n",
       "      <td>61806</td>\n",
       "      <td>2.344398e+08</td>\n",
       "    </tr>\n",
       "    <tr>\n",
       "      <th>9</th>\n",
       "      <td>2022</td>\n",
       "      <td>0.830211</td>\n",
       "      <td>8.751578</td>\n",
       "      <td>12.400092</td>\n",
       "      <td>99.055794</td>\n",
       "      <td>67215</td>\n",
       "      <td>2.635105e+08</td>\n",
       "    </tr>\n",
       "  </tbody>\n",
       "</table>\n",
       "</div>"
      ],
      "text/plain": [
       "   name  loyl_din  pmnts_nmbr_din  pmnts_sum_din       loyl  pmnts_nmbr  \\\n",
       "0  2013  0.000000        0.000000       0.000000  97.665370       39263   \n",
       "1  2014  0.411879      -11.738787      19.783551  98.067633       34654   \n",
       "2  2015  0.258531        8.902291      13.574433  98.321168       37739   \n",
       "3  2016 -0.078743       11.004531      38.083161  98.243747       41892   \n",
       "4  2017 -0.304700       18.793564      37.020180  97.944398       49765   \n",
       "5  2018  0.542860       10.396865      18.848835  98.476099       54939   \n",
       "6  2019  0.808372        3.094341      20.206625  99.272152       56639   \n",
       "7  2020 -0.855711       -1.221773      15.148304  98.422669       55947   \n",
       "8  2021 -0.185400       10.472411       6.743915  98.240193       61806   \n",
       "9  2022  0.830211        8.751578      12.400092  99.055794       67215   \n",
       "\n",
       "      pmnts_sum  \n",
       "0  5.186857e+07  \n",
       "1  6.213001e+07  \n",
       "2  7.056381e+07  \n",
       "3  9.743674e+07  \n",
       "4  1.335080e+08  \n",
       "5  1.586727e+08  \n",
       "6  1.907351e+08  \n",
       "7  2.196282e+08  \n",
       "8  2.344398e+08  \n",
       "9  2.635105e+08  "
      ]
     },
     "execution_count": 59,
     "metadata": {},
     "output_type": "execute_result"
    }
   ],
   "source": [
    "new[new_order]"
   ]
  },
  {
   "cell_type": "code",
   "execution_count": 60,
   "metadata": {},
   "outputs": [
    {
     "data": {
      "text/plain": [
       "'{\"0\":{\"name\":2013.0,\"loyl_din\":0.0,\"pmnts_nmbr_din\":0.0,\"pmnts_sum_din\":0.0,\"loyl\":97.6653696498,\"pmnts_nmbr\":39263.0,\"pmnts_sum\":51868567.5700000003},\"1\":{\"name\":2014.0,\"loyl_din\":0.4118790538,\"pmnts_nmbr_din\":-11.7387871533,\"pmnts_sum_din\":19.7835505794,\"loyl\":98.0676328502,\"pmnts_nmbr\":34654.0,\"pmnts_sum\":62130011.8699999973},\"2\":{\"name\":2015.0,\"loyl_din\":0.2585307972,\"pmnts_nmbr_din\":8.9022912218,\"pmnts_sum_din\":13.5744328645,\"loyl\":98.3211678832,\"pmnts_nmbr\":37739.0,\"pmnts_sum\":70563808.6200000048},\"3\":{\"name\":2016.0,\"loyl_din\":-0.0787431752,\"pmnts_nmbr_din\":11.0045311217,\"pmnts_sum_din\":38.0831608236,\"loyl\":98.2437466738,\"pmnts_nmbr\":41892.0,\"pmnts_sum\":97436737.3400000036},\"4\":{\"name\":2017.0,\"loyl_din\":-0.3047003426,\"pmnts_nmbr_din\":18.7935644037,\"pmnts_sum_din\":37.020179549,\"loyl\":97.9443976411,\"pmnts_nmbr\":49765.0,\"pmnts_sum\":133507992.450000003},\"5\":{\"name\":2018.0,\"loyl_din\":0.5428602193,\"pmnts_nmbr_din\":10.3968652668,\"pmnts_sum_din\":18.8488350159,\"loyl\":98.476098813,\"pmnts_nmbr\":54939.0,\"pmnts_sum\":158672693.6800000072},\"6\":{\"name\":2019.0,\"loyl_din\":0.8083718744,\"pmnts_nmbr_din\":3.0943409964,\"pmnts_sum_din\":20.2066249752,\"loyl\":99.2721518987,\"pmnts_nmbr\":56639.0,\"pmnts_sum\":190735089.8300000131},\"7\":{\"name\":2020.0,\"loyl_din\":-0.855711277,\"pmnts_nmbr_din\":-1.2217729833,\"pmnts_sum_din\":15.1483042348,\"loyl\":98.4226689001,\"pmnts_nmbr\":55947.0,\"pmnts_sum\":219628221.5200000107},\"8\":{\"name\":2021.0,\"loyl_din\":-0.1853998248,\"pmnts_nmbr_din\":10.4724113894,\"pmnts_sum_din\":6.7439154028,\"loyl\":98.2401934444,\"pmnts_nmbr\":61806.0,\"pmnts_sum\":234439762.9799999893},\"9\":{\"name\":2022.0,\"loyl_din\":0.8302106484,\"pmnts_nmbr_din\":8.7515775167,\"pmnts_sum_din\":12.4000917423,\"loyl\":99.0557939914,\"pmnts_nmbr\":67215.0,\"pmnts_sum\":263510508.6699999869}}'"
      ]
     },
     "execution_count": 60,
     "metadata": {},
     "output_type": "execute_result"
    }
   ],
   "source": [
    "new[new_order].T.to_json()"
   ]
  },
  {
   "cell_type": "code",
   "execution_count": null,
   "metadata": {},
   "outputs": [],
   "source": [
    "nmbr = df.query('year > 2012 and year < 2023').groupby('year').agg({'pmnts_nmbr_per_year' : 'sum'}).reset_index()"
   ]
  },
  {
   "cell_type": "code",
   "execution_count": null,
   "metadata": {},
   "outputs": [],
   "source": [
    "s = df.query('year > 2012 and year < 2023').groupby('year').agg({'pmnts_sum_per_year' : 'sum'}).reset_index()"
   ]
  },
  {
   "cell_type": "code",
   "execution_count": null,
   "metadata": {},
   "outputs": [
    {
     "name": "stdout",
     "output_type": "stream",
     "text": [
      "5158.350000000\n"
     ]
    }
   ],
   "source": [
    "number_in_scientific_notation = 5.158350e+03\n",
    "number_in_decimal = \"{:.9f}\".format(number_in_scientific_notation)\n",
    "\n",
    "print(number_in_decimal)  "
   ]
  },
  {
   "cell_type": "code",
   "execution_count": null,
   "metadata": {},
   "outputs": [],
   "source": [
    "churn = df.query('year > 2012 and year < 2023 and churn == 0').groupby('year').agg({'churn' : 'count'}).reset_index()"
   ]
  },
  {
   "cell_type": "code",
   "execution_count": null,
   "metadata": {},
   "outputs": [],
   "source": [
    "all = df.query('year > 2012 and year < 2023').groupby('year').agg({'churn' : 'count'}).reset_index()"
   ]
  },
  {
   "cell_type": "code",
   "execution_count": null,
   "metadata": {},
   "outputs": [],
   "source": [
    "new = nmbr.merge(s.merge(all.merge(churn, on='year'), on='year') , on='year')"
   ]
  },
  {
   "cell_type": "code",
   "execution_count": null,
   "metadata": {},
   "outputs": [],
   "source": [
    "new['loyl'] = (new.churn_y / new.churn_x) * 100"
   ]
  },
  {
   "cell_type": "code",
   "execution_count": null,
   "metadata": {},
   "outputs": [],
   "source": [
    "new.drop(['churn_x', 'churn_y'], axis=1, inplace=True)"
   ]
  },
  {
   "cell_type": "code",
   "execution_count": null,
   "metadata": {},
   "outputs": [],
   "source": [
    "new['loyl_din'] = new['loyl'].pct_change() * 100"
   ]
  },
  {
   "cell_type": "code",
   "execution_count": null,
   "metadata": {},
   "outputs": [],
   "source": [
    "new.loyl_din = new.loyl_din.fillna(0)"
   ]
  },
  {
   "cell_type": "code",
   "execution_count": null,
   "metadata": {},
   "outputs": [],
   "source": [
    "new['pmnts_nmbr_din'] = new['pmnts_nmbr_per_year'].pct_change() * 100\n",
    "new.pmnts_nmbr_din = new.pmnts_nmbr_din.fillna(0)\n",
    "new['pmnts_sum_din'] = new['pmnts_sum_per_year'].pct_change() * 100\n",
    "new.pmnts_sum_din = new.pmnts_sum_din.fillna(0)"
   ]
  },
  {
   "cell_type": "code",
   "execution_count": null,
   "metadata": {},
   "outputs": [],
   "source": [
    "new.rename(columns=({'year' : 'name', 'pmnts_nmbr_per_year' : 'pmnts_nmbr', 'pmnts_sum_per_year' : 'pmnts_sum'}), inplace=True)"
   ]
  },
  {
   "cell_type": "code",
   "execution_count": null,
   "metadata": {},
   "outputs": [],
   "source": [
    "new_order = ['name', 'loyl_din', 'pmnts_nmbr_din', 'pmnts_sum_din' , 'loyl', 'pmnts_nmbr' , 'pmnts_sum']"
   ]
  },
  {
   "cell_type": "code",
   "execution_count": null,
   "metadata": {},
   "outputs": [
    {
     "data": {
      "text/html": [
       "<div>\n",
       "<style scoped>\n",
       "    .dataframe tbody tr th:only-of-type {\n",
       "        vertical-align: middle;\n",
       "    }\n",
       "\n",
       "    .dataframe tbody tr th {\n",
       "        vertical-align: top;\n",
       "    }\n",
       "\n",
       "    .dataframe thead th {\n",
       "        text-align: right;\n",
       "    }\n",
       "</style>\n",
       "<table border=\"1\" class=\"dataframe\">\n",
       "  <thead>\n",
       "    <tr style=\"text-align: right;\">\n",
       "      <th></th>\n",
       "      <th>name</th>\n",
       "      <th>loyl_din</th>\n",
       "      <th>pmnts_nmbr_din</th>\n",
       "      <th>pmnts_sum_din</th>\n",
       "      <th>loyl</th>\n",
       "      <th>pmnts_nmbr</th>\n",
       "      <th>pmnts_sum</th>\n",
       "    </tr>\n",
       "  </thead>\n",
       "  <tbody>\n",
       "    <tr>\n",
       "      <th>0</th>\n",
       "      <td>2013</td>\n",
       "      <td>0.000000</td>\n",
       "      <td>0.000000</td>\n",
       "      <td>0.000000</td>\n",
       "      <td>97.665370</td>\n",
       "      <td>39263</td>\n",
       "      <td>5.186857e+07</td>\n",
       "    </tr>\n",
       "    <tr>\n",
       "      <th>1</th>\n",
       "      <td>2014</td>\n",
       "      <td>0.411879</td>\n",
       "      <td>-11.738787</td>\n",
       "      <td>19.783551</td>\n",
       "      <td>98.067633</td>\n",
       "      <td>34654</td>\n",
       "      <td>6.213001e+07</td>\n",
       "    </tr>\n",
       "    <tr>\n",
       "      <th>2</th>\n",
       "      <td>2015</td>\n",
       "      <td>0.258531</td>\n",
       "      <td>8.902291</td>\n",
       "      <td>13.574433</td>\n",
       "      <td>98.321168</td>\n",
       "      <td>37739</td>\n",
       "      <td>7.056381e+07</td>\n",
       "    </tr>\n",
       "    <tr>\n",
       "      <th>3</th>\n",
       "      <td>2016</td>\n",
       "      <td>-0.078743</td>\n",
       "      <td>11.004531</td>\n",
       "      <td>38.083161</td>\n",
       "      <td>98.243747</td>\n",
       "      <td>41892</td>\n",
       "      <td>9.743674e+07</td>\n",
       "    </tr>\n",
       "    <tr>\n",
       "      <th>4</th>\n",
       "      <td>2017</td>\n",
       "      <td>-0.304700</td>\n",
       "      <td>18.793564</td>\n",
       "      <td>37.020180</td>\n",
       "      <td>97.944398</td>\n",
       "      <td>49765</td>\n",
       "      <td>1.335080e+08</td>\n",
       "    </tr>\n",
       "    <tr>\n",
       "      <th>5</th>\n",
       "      <td>2018</td>\n",
       "      <td>0.542860</td>\n",
       "      <td>10.396865</td>\n",
       "      <td>18.848835</td>\n",
       "      <td>98.476099</td>\n",
       "      <td>54939</td>\n",
       "      <td>1.586727e+08</td>\n",
       "    </tr>\n",
       "    <tr>\n",
       "      <th>6</th>\n",
       "      <td>2019</td>\n",
       "      <td>0.808372</td>\n",
       "      <td>3.094341</td>\n",
       "      <td>20.206625</td>\n",
       "      <td>99.272152</td>\n",
       "      <td>56639</td>\n",
       "      <td>1.907351e+08</td>\n",
       "    </tr>\n",
       "    <tr>\n",
       "      <th>7</th>\n",
       "      <td>2020</td>\n",
       "      <td>-0.855711</td>\n",
       "      <td>-1.221773</td>\n",
       "      <td>15.148304</td>\n",
       "      <td>98.422669</td>\n",
       "      <td>55947</td>\n",
       "      <td>2.196282e+08</td>\n",
       "    </tr>\n",
       "    <tr>\n",
       "      <th>8</th>\n",
       "      <td>2021</td>\n",
       "      <td>-0.185400</td>\n",
       "      <td>10.472411</td>\n",
       "      <td>6.743915</td>\n",
       "      <td>98.240193</td>\n",
       "      <td>61806</td>\n",
       "      <td>2.344398e+08</td>\n",
       "    </tr>\n",
       "    <tr>\n",
       "      <th>9</th>\n",
       "      <td>2022</td>\n",
       "      <td>0.830211</td>\n",
       "      <td>8.751578</td>\n",
       "      <td>12.400092</td>\n",
       "      <td>99.055794</td>\n",
       "      <td>67215</td>\n",
       "      <td>2.635105e+08</td>\n",
       "    </tr>\n",
       "  </tbody>\n",
       "</table>\n",
       "</div>"
      ],
      "text/plain": [
       "   name  loyl_din  pmnts_nmbr_din  pmnts_sum_din       loyl  pmnts_nmbr  \\\n",
       "0  2013  0.000000        0.000000       0.000000  97.665370       39263   \n",
       "1  2014  0.411879      -11.738787      19.783551  98.067633       34654   \n",
       "2  2015  0.258531        8.902291      13.574433  98.321168       37739   \n",
       "3  2016 -0.078743       11.004531      38.083161  98.243747       41892   \n",
       "4  2017 -0.304700       18.793564      37.020180  97.944398       49765   \n",
       "5  2018  0.542860       10.396865      18.848835  98.476099       54939   \n",
       "6  2019  0.808372        3.094341      20.206625  99.272152       56639   \n",
       "7  2020 -0.855711       -1.221773      15.148304  98.422669       55947   \n",
       "8  2021 -0.185400       10.472411       6.743915  98.240193       61806   \n",
       "9  2022  0.830211        8.751578      12.400092  99.055794       67215   \n",
       "\n",
       "      pmnts_sum  \n",
       "0  5.186857e+07  \n",
       "1  6.213001e+07  \n",
       "2  7.056381e+07  \n",
       "3  9.743674e+07  \n",
       "4  1.335080e+08  \n",
       "5  1.586727e+08  \n",
       "6  1.907351e+08  \n",
       "7  2.196282e+08  \n",
       "8  2.344398e+08  \n",
       "9  2.635105e+08  "
      ]
     },
     "metadata": {},
     "output_type": "display_data"
    }
   ],
   "source": [
    "new[new_order]"
   ]
  },
  {
   "cell_type": "code",
   "execution_count": null,
   "metadata": {},
   "outputs": [
    {
     "data": {
      "text/plain": [
       "'{\"0\":{\"name\":2013.0,\"loyl_din\":0.0,\"pmnts_nmbr_din\":0.0,\"pmnts_sum_din\":0.0,\"loyl\":97.6653696498,\"pmnts_nmbr\":39263.0,\"pmnts_sum\":51868567.5700000003},\"1\":{\"name\":2014.0,\"loyl_din\":0.4118790538,\"pmnts_nmbr_din\":-11.7387871533,\"pmnts_sum_din\":19.7835505794,\"loyl\":98.0676328502,\"pmnts_nmbr\":34654.0,\"pmnts_sum\":62130011.8699999973},\"2\":{\"name\":2015.0,\"loyl_din\":0.2585307972,\"pmnts_nmbr_din\":8.9022912218,\"pmnts_sum_din\":13.5744328645,\"loyl\":98.3211678832,\"pmnts_nmbr\":37739.0,\"pmnts_sum\":70563808.6200000048},\"3\":{\"name\":2016.0,\"loyl_din\":-0.0787431752,\"pmnts_nmbr_din\":11.0045311217,\"pmnts_sum_din\":38.0831608236,\"loyl\":98.2437466738,\"pmnts_nmbr\":41892.0,\"pmnts_sum\":97436737.3400000036},\"4\":{\"name\":2017.0,\"loyl_din\":-0.3047003426,\"pmnts_nmbr_din\":18.7935644037,\"pmnts_sum_din\":37.020179549,\"loyl\":97.9443976411,\"pmnts_nmbr\":49765.0,\"pmnts_sum\":133507992.450000003},\"5\":{\"name\":2018.0,\"loyl_din\":0.5428602193,\"pmnts_nmbr_din\":10.3968652668,\"pmnts_sum_din\":18.8488350159,\"loyl\":98.476098813,\"pmnts_nmbr\":54939.0,\"pmnts_sum\":158672693.6800000072},\"6\":{\"name\":2019.0,\"loyl_din\":0.8083718744,\"pmnts_nmbr_din\":3.0943409964,\"pmnts_sum_din\":20.2066249752,\"loyl\":99.2721518987,\"pmnts_nmbr\":56639.0,\"pmnts_sum\":190735089.8300000131},\"7\":{\"name\":2020.0,\"loyl_din\":-0.855711277,\"pmnts_nmbr_din\":-1.2217729833,\"pmnts_sum_din\":15.1483042348,\"loyl\":98.4226689001,\"pmnts_nmbr\":55947.0,\"pmnts_sum\":219628221.5200000107},\"8\":{\"name\":2021.0,\"loyl_din\":-0.1853998248,\"pmnts_nmbr_din\":10.4724113894,\"pmnts_sum_din\":6.7439154028,\"loyl\":98.2401934444,\"pmnts_nmbr\":61806.0,\"pmnts_sum\":234439762.9799999893},\"9\":{\"name\":2022.0,\"loyl_din\":0.8302106484,\"pmnts_nmbr_din\":8.7515775167,\"pmnts_sum_din\":12.4000917423,\"loyl\":99.0557939914,\"pmnts_nmbr\":67215.0,\"pmnts_sum\":263510508.6699999869}}'"
      ]
     },
     "metadata": {},
     "output_type": "display_data"
    }
   ],
   "source": [
    "new[new_order].T.to_json()"
   ]
  },
  {
   "cell_type": "code",
   "execution_count": null,
   "metadata": {},
   "outputs": [],
   "source": [
    "nmbr = df.query('year > 2012 and year < 2023').groupby('year').agg({'pmnts_nmbr_per_year' : 'sum'}).reset_index()"
   ]
  },
  {
   "cell_type": "code",
   "execution_count": null,
   "metadata": {},
   "outputs": [],
   "source": [
    "s = df.query('year > 2012 and year < 2023').groupby('year').agg({'pmnts_sum_per_year' : 'sum'}).reset_index()"
   ]
  },
  {
   "cell_type": "code",
   "execution_count": null,
   "metadata": {},
   "outputs": [
    {
     "name": "stdout",
     "output_type": "stream",
     "text": [
      "5158.350000000\n"
     ]
    }
   ],
   "source": [
    "number_in_scientific_notation = 5.158350e+03\n",
    "number_in_decimal = \"{:.9f}\".format(number_in_scientific_notation)\n",
    "\n",
    "print(number_in_decimal)  "
   ]
  },
  {
   "cell_type": "code",
   "execution_count": null,
   "metadata": {},
   "outputs": [],
   "source": [
    "churn = df.query('year > 2012 and year < 2023 and churn == 0').groupby('year').agg({'churn' : 'count'}).reset_index()"
   ]
  },
  {
   "cell_type": "code",
   "execution_count": null,
   "metadata": {},
   "outputs": [],
   "source": [
    "all = df.query('year > 2012 and year < 2023').groupby('year').agg({'churn' : 'count'}).reset_index()"
   ]
  },
  {
   "cell_type": "code",
   "execution_count": null,
   "metadata": {},
   "outputs": [],
   "source": [
    "new = nmbr.merge(s.merge(all.merge(churn, on='year'), on='year') , on='year')"
   ]
  },
  {
   "cell_type": "code",
   "execution_count": null,
   "metadata": {},
   "outputs": [],
   "source": [
    "new['loyl'] = (new.churn_y / new.churn_x) * 100"
   ]
  },
  {
   "cell_type": "code",
   "execution_count": null,
   "metadata": {},
   "outputs": [],
   "source": [
    "new.drop(['churn_x', 'churn_y'], axis=1, inplace=True)"
   ]
  },
  {
   "cell_type": "code",
   "execution_count": null,
   "metadata": {},
   "outputs": [],
   "source": [
    "new['loyl_din'] = new['loyl'].pct_change() * 100"
   ]
  },
  {
   "cell_type": "code",
   "execution_count": null,
   "metadata": {},
   "outputs": [],
   "source": [
    "new.loyl_din = new.loyl_din.fillna(0)"
   ]
  },
  {
   "cell_type": "code",
   "execution_count": null,
   "metadata": {},
   "outputs": [],
   "source": [
    "new['pmnts_nmbr_din'] = new['pmnts_nmbr_per_year'].pct_change() * 100\n",
    "new.pmnts_nmbr_din = new.pmnts_nmbr_din.fillna(0)\n",
    "new['pmnts_sum_din'] = new['pmnts_sum_per_year'].pct_change() * 100\n",
    "new.pmnts_sum_din = new.pmnts_sum_din.fillna(0)"
   ]
  },
  {
   "cell_type": "code",
   "execution_count": null,
   "metadata": {},
   "outputs": [],
   "source": [
    "new.rename(columns=({'year' : 'name', 'pmnts_nmbr_per_year' : 'pmnts_nmbr', 'pmnts_sum_per_year' : 'pmnts_sum'}), inplace=True)"
   ]
  },
  {
   "cell_type": "code",
   "execution_count": null,
   "metadata": {},
   "outputs": [],
   "source": [
    "new_order = ['name', 'loyl_din', 'pmnts_nmbr_din', 'pmnts_sum_din' , 'loyl', 'pmnts_nmbr' , 'pmnts_sum']"
   ]
  },
  {
   "cell_type": "code",
   "execution_count": null,
   "metadata": {},
   "outputs": [
    {
     "data": {
      "text/html": [
       "<div>\n",
       "<style scoped>\n",
       "    .dataframe tbody tr th:only-of-type {\n",
       "        vertical-align: middle;\n",
       "    }\n",
       "\n",
       "    .dataframe tbody tr th {\n",
       "        vertical-align: top;\n",
       "    }\n",
       "\n",
       "    .dataframe thead th {\n",
       "        text-align: right;\n",
       "    }\n",
       "</style>\n",
       "<table border=\"1\" class=\"dataframe\">\n",
       "  <thead>\n",
       "    <tr style=\"text-align: right;\">\n",
       "      <th></th>\n",
       "      <th>name</th>\n",
       "      <th>loyl_din</th>\n",
       "      <th>pmnts_nmbr_din</th>\n",
       "      <th>pmnts_sum_din</th>\n",
       "      <th>loyl</th>\n",
       "      <th>pmnts_nmbr</th>\n",
       "      <th>pmnts_sum</th>\n",
       "    </tr>\n",
       "  </thead>\n",
       "  <tbody>\n",
       "    <tr>\n",
       "      <th>0</th>\n",
       "      <td>2013</td>\n",
       "      <td>0.000000</td>\n",
       "      <td>0.000000</td>\n",
       "      <td>0.000000</td>\n",
       "      <td>97.665370</td>\n",
       "      <td>39263</td>\n",
       "      <td>5.186857e+07</td>\n",
       "    </tr>\n",
       "    <tr>\n",
       "      <th>1</th>\n",
       "      <td>2014</td>\n",
       "      <td>0.411879</td>\n",
       "      <td>-11.738787</td>\n",
       "      <td>19.783551</td>\n",
       "      <td>98.067633</td>\n",
       "      <td>34654</td>\n",
       "      <td>6.213001e+07</td>\n",
       "    </tr>\n",
       "    <tr>\n",
       "      <th>2</th>\n",
       "      <td>2015</td>\n",
       "      <td>0.258531</td>\n",
       "      <td>8.902291</td>\n",
       "      <td>13.574433</td>\n",
       "      <td>98.321168</td>\n",
       "      <td>37739</td>\n",
       "      <td>7.056381e+07</td>\n",
       "    </tr>\n",
       "    <tr>\n",
       "      <th>3</th>\n",
       "      <td>2016</td>\n",
       "      <td>-0.078743</td>\n",
       "      <td>11.004531</td>\n",
       "      <td>38.083161</td>\n",
       "      <td>98.243747</td>\n",
       "      <td>41892</td>\n",
       "      <td>9.743674e+07</td>\n",
       "    </tr>\n",
       "    <tr>\n",
       "      <th>4</th>\n",
       "      <td>2017</td>\n",
       "      <td>-0.304700</td>\n",
       "      <td>18.793564</td>\n",
       "      <td>37.020180</td>\n",
       "      <td>97.944398</td>\n",
       "      <td>49765</td>\n",
       "      <td>1.335080e+08</td>\n",
       "    </tr>\n",
       "    <tr>\n",
       "      <th>5</th>\n",
       "      <td>2018</td>\n",
       "      <td>0.542860</td>\n",
       "      <td>10.396865</td>\n",
       "      <td>18.848835</td>\n",
       "      <td>98.476099</td>\n",
       "      <td>54939</td>\n",
       "      <td>1.586727e+08</td>\n",
       "    </tr>\n",
       "    <tr>\n",
       "      <th>6</th>\n",
       "      <td>2019</td>\n",
       "      <td>0.808372</td>\n",
       "      <td>3.094341</td>\n",
       "      <td>20.206625</td>\n",
       "      <td>99.272152</td>\n",
       "      <td>56639</td>\n",
       "      <td>1.907351e+08</td>\n",
       "    </tr>\n",
       "    <tr>\n",
       "      <th>7</th>\n",
       "      <td>2020</td>\n",
       "      <td>-0.855711</td>\n",
       "      <td>-1.221773</td>\n",
       "      <td>15.148304</td>\n",
       "      <td>98.422669</td>\n",
       "      <td>55947</td>\n",
       "      <td>2.196282e+08</td>\n",
       "    </tr>\n",
       "    <tr>\n",
       "      <th>8</th>\n",
       "      <td>2021</td>\n",
       "      <td>-0.185400</td>\n",
       "      <td>10.472411</td>\n",
       "      <td>6.743915</td>\n",
       "      <td>98.240193</td>\n",
       "      <td>61806</td>\n",
       "      <td>2.344398e+08</td>\n",
       "    </tr>\n",
       "    <tr>\n",
       "      <th>9</th>\n",
       "      <td>2022</td>\n",
       "      <td>0.830211</td>\n",
       "      <td>8.751578</td>\n",
       "      <td>12.400092</td>\n",
       "      <td>99.055794</td>\n",
       "      <td>67215</td>\n",
       "      <td>2.635105e+08</td>\n",
       "    </tr>\n",
       "  </tbody>\n",
       "</table>\n",
       "</div>"
      ],
      "text/plain": [
       "   name  loyl_din  pmnts_nmbr_din  pmnts_sum_din       loyl  pmnts_nmbr  \\\n",
       "0  2013  0.000000        0.000000       0.000000  97.665370       39263   \n",
       "1  2014  0.411879      -11.738787      19.783551  98.067633       34654   \n",
       "2  2015  0.258531        8.902291      13.574433  98.321168       37739   \n",
       "3  2016 -0.078743       11.004531      38.083161  98.243747       41892   \n",
       "4  2017 -0.304700       18.793564      37.020180  97.944398       49765   \n",
       "5  2018  0.542860       10.396865      18.848835  98.476099       54939   \n",
       "6  2019  0.808372        3.094341      20.206625  99.272152       56639   \n",
       "7  2020 -0.855711       -1.221773      15.148304  98.422669       55947   \n",
       "8  2021 -0.185400       10.472411       6.743915  98.240193       61806   \n",
       "9  2022  0.830211        8.751578      12.400092  99.055794       67215   \n",
       "\n",
       "      pmnts_sum  \n",
       "0  5.186857e+07  \n",
       "1  6.213001e+07  \n",
       "2  7.056381e+07  \n",
       "3  9.743674e+07  \n",
       "4  1.335080e+08  \n",
       "5  1.586727e+08  \n",
       "6  1.907351e+08  \n",
       "7  2.196282e+08  \n",
       "8  2.344398e+08  \n",
       "9  2.635105e+08  "
      ]
     },
     "metadata": {},
     "output_type": "display_data"
    }
   ],
   "source": [
    "new[new_order]"
   ]
  },
  {
   "cell_type": "code",
   "execution_count": null,
   "metadata": {},
   "outputs": [
    {
     "data": {
      "text/plain": [
       "'{\"0\":{\"name\":2013.0,\"loyl_din\":0.0,\"pmnts_nmbr_din\":0.0,\"pmnts_sum_din\":0.0,\"loyl\":97.6653696498,\"pmnts_nmbr\":39263.0,\"pmnts_sum\":51868567.5700000003},\"1\":{\"name\":2014.0,\"loyl_din\":0.4118790538,\"pmnts_nmbr_din\":-11.7387871533,\"pmnts_sum_din\":19.7835505794,\"loyl\":98.0676328502,\"pmnts_nmbr\":34654.0,\"pmnts_sum\":62130011.8699999973},\"2\":{\"name\":2015.0,\"loyl_din\":0.2585307972,\"pmnts_nmbr_din\":8.9022912218,\"pmnts_sum_din\":13.5744328645,\"loyl\":98.3211678832,\"pmnts_nmbr\":37739.0,\"pmnts_sum\":70563808.6200000048},\"3\":{\"name\":2016.0,\"loyl_din\":-0.0787431752,\"pmnts_nmbr_din\":11.0045311217,\"pmnts_sum_din\":38.0831608236,\"loyl\":98.2437466738,\"pmnts_nmbr\":41892.0,\"pmnts_sum\":97436737.3400000036},\"4\":{\"name\":2017.0,\"loyl_din\":-0.3047003426,\"pmnts_nmbr_din\":18.7935644037,\"pmnts_sum_din\":37.020179549,\"loyl\":97.9443976411,\"pmnts_nmbr\":49765.0,\"pmnts_sum\":133507992.450000003},\"5\":{\"name\":2018.0,\"loyl_din\":0.5428602193,\"pmnts_nmbr_din\":10.3968652668,\"pmnts_sum_din\":18.8488350159,\"loyl\":98.476098813,\"pmnts_nmbr\":54939.0,\"pmnts_sum\":158672693.6800000072},\"6\":{\"name\":2019.0,\"loyl_din\":0.8083718744,\"pmnts_nmbr_din\":3.0943409964,\"pmnts_sum_din\":20.2066249752,\"loyl\":99.2721518987,\"pmnts_nmbr\":56639.0,\"pmnts_sum\":190735089.8300000131},\"7\":{\"name\":2020.0,\"loyl_din\":-0.855711277,\"pmnts_nmbr_din\":-1.2217729833,\"pmnts_sum_din\":15.1483042348,\"loyl\":98.4226689001,\"pmnts_nmbr\":55947.0,\"pmnts_sum\":219628221.5200000107},\"8\":{\"name\":2021.0,\"loyl_din\":-0.1853998248,\"pmnts_nmbr_din\":10.4724113894,\"pmnts_sum_din\":6.7439154028,\"loyl\":98.2401934444,\"pmnts_nmbr\":61806.0,\"pmnts_sum\":234439762.9799999893},\"9\":{\"name\":2022.0,\"loyl_din\":0.8302106484,\"pmnts_nmbr_din\":8.7515775167,\"pmnts_sum_din\":12.4000917423,\"loyl\":99.0557939914,\"pmnts_nmbr\":67215.0,\"pmnts_sum\":263510508.6699999869}}'"
      ]
     },
     "metadata": {},
     "output_type": "display_data"
    }
   ],
   "source": [
    "new[new_order].T.to_json()"
   ]
  },
  {
   "cell_type": "code",
   "execution_count": 18,
   "metadata": {},
   "outputs": [],
   "source": [
    "nmbr = df.query('year > 2012 and year < 2023').groupby('year').agg({'pmnts_nmbr_per_year' : 'mean'}).reset_index()"
   ]
  },
  {
   "cell_type": "code",
   "execution_count": 19,
   "metadata": {},
   "outputs": [],
   "source": [
    "s = df.query('year > 2012 and year < 2023').groupby('year').agg({'pmnts_sum_per_year' : 'mean'}).reset_index()"
   ]
  },
  {
   "cell_type": "code",
   "execution_count": null,
   "metadata": {},
   "outputs": [
    {
     "name": "stdout",
     "output_type": "stream",
     "text": [
      "5158.350000000\n"
     ]
    }
   ],
   "source": [
    "number_in_scientific_notation = 5.158350e+03\n",
    "number_in_decimal = \"{:.9f}\".format(number_in_scientific_notation)\n",
    "\n",
    "print(number_in_decimal)  "
   ]
  },
  {
   "cell_type": "code",
   "execution_count": 20,
   "metadata": {},
   "outputs": [],
   "source": [
    "churn = df.query('year > 2012 and year < 2023 and churn == 0').groupby('year').agg({'churn' : 'count'}).reset_index()"
   ]
  },
  {
   "cell_type": "code",
   "execution_count": 21,
   "metadata": {},
   "outputs": [],
   "source": [
    "all = df.query('year > 2012 and year < 2023').groupby('year').agg({'churn' : 'count'}).reset_index()"
   ]
  },
  {
   "cell_type": "code",
   "execution_count": 22,
   "metadata": {},
   "outputs": [],
   "source": [
    "new = nmbr.merge(s.merge(all.merge(churn, on='year'), on='year') , on='year')"
   ]
  },
  {
   "cell_type": "code",
   "execution_count": 23,
   "metadata": {},
   "outputs": [],
   "source": [
    "new['loyl'] = (new.churn_y / new.churn_x) * 100"
   ]
  },
  {
   "cell_type": "code",
   "execution_count": 24,
   "metadata": {},
   "outputs": [],
   "source": [
    "new.drop(['churn_x', 'churn_y'], axis=1, inplace=True)"
   ]
  },
  {
   "cell_type": "code",
   "execution_count": 25,
   "metadata": {},
   "outputs": [],
   "source": [
    "new['loyl_din'] = new['loyl'].pct_change() * 100"
   ]
  },
  {
   "cell_type": "code",
   "execution_count": 26,
   "metadata": {},
   "outputs": [],
   "source": [
    "new.loyl_din = new.loyl_din.fillna(0)"
   ]
  },
  {
   "cell_type": "code",
   "execution_count": 27,
   "metadata": {},
   "outputs": [],
   "source": [
    "new['pmnts_nmbr_din'] = new['pmnts_nmbr_per_year'].pct_change() * 100\n",
    "new.pmnts_nmbr_din = new.pmnts_nmbr_din.fillna(0)\n",
    "new['pmnts_sum_din'] = new['pmnts_sum_per_year'].pct_change() * 100\n",
    "new.pmnts_sum_din = new.pmnts_sum_din.fillna(0)"
   ]
  },
  {
   "cell_type": "code",
   "execution_count": 28,
   "metadata": {},
   "outputs": [],
   "source": [
    "new.rename(columns=({'year' : 'name', 'pmnts_nmbr_per_year' : 'pmnts_nmbr', 'pmnts_sum_per_year' : 'pmnts_sum'}), inplace=True)"
   ]
  },
  {
   "cell_type": "code",
   "execution_count": 29,
   "metadata": {},
   "outputs": [],
   "source": [
    "new_order = ['name', 'loyl_din', 'pmnts_nmbr_din', 'pmnts_sum_din' , 'loyl', 'pmnts_nmbr' , 'pmnts_sum']"
   ]
  },
  {
   "cell_type": "code",
   "execution_count": 30,
   "metadata": {},
   "outputs": [
    {
     "data": {
      "text/html": [
       "<div>\n",
       "<style scoped>\n",
       "    .dataframe tbody tr th:only-of-type {\n",
       "        vertical-align: middle;\n",
       "    }\n",
       "\n",
       "    .dataframe tbody tr th {\n",
       "        vertical-align: top;\n",
       "    }\n",
       "\n",
       "    .dataframe thead th {\n",
       "        text-align: right;\n",
       "    }\n",
       "</style>\n",
       "<table border=\"1\" class=\"dataframe\">\n",
       "  <thead>\n",
       "    <tr style=\"text-align: right;\">\n",
       "      <th></th>\n",
       "      <th>name</th>\n",
       "      <th>loyl_din</th>\n",
       "      <th>pmnts_nmbr_din</th>\n",
       "      <th>pmnts_sum_din</th>\n",
       "      <th>loyl</th>\n",
       "      <th>pmnts_nmbr</th>\n",
       "      <th>pmnts_sum</th>\n",
       "    </tr>\n",
       "  </thead>\n",
       "  <tbody>\n",
       "    <tr>\n",
       "      <th>0</th>\n",
       "      <td>2013</td>\n",
       "      <td>0.000000</td>\n",
       "      <td>0.000000</td>\n",
       "      <td>0.000000</td>\n",
       "      <td>97.665370</td>\n",
       "      <td>7.638716</td>\n",
       "      <td>10091.161006</td>\n",
       "    </tr>\n",
       "    <tr>\n",
       "      <th>1</th>\n",
       "      <td>2014</td>\n",
       "      <td>0.411879</td>\n",
       "      <td>-4.712742</td>\n",
       "      <td>29.318935</td>\n",
       "      <td>98.067633</td>\n",
       "      <td>7.278723</td>\n",
       "      <td>13049.781951</td>\n",
       "    </tr>\n",
       "    <tr>\n",
       "      <th>2</th>\n",
       "      <td>2015</td>\n",
       "      <td>0.258531</td>\n",
       "      <td>-5.386166</td>\n",
       "      <td>-1.327030</td>\n",
       "      <td>98.321168</td>\n",
       "      <td>6.886679</td>\n",
       "      <td>12876.607412</td>\n",
       "    </tr>\n",
       "    <tr>\n",
       "      <th>3</th>\n",
       "      <td>2016</td>\n",
       "      <td>-0.078743</td>\n",
       "      <td>7.912867</td>\n",
       "      <td>34.237311</td>\n",
       "      <td>98.243747</td>\n",
       "      <td>7.431613</td>\n",
       "      <td>17285.211520</td>\n",
       "    </tr>\n",
       "    <tr>\n",
       "      <th>4</th>\n",
       "      <td>2017</td>\n",
       "      <td>-0.304700</td>\n",
       "      <td>12.828866</td>\n",
       "      <td>30.140312</td>\n",
       "      <td>97.944398</td>\n",
       "      <td>8.385004</td>\n",
       "      <td>22495.028214</td>\n",
       "    </tr>\n",
       "    <tr>\n",
       "      <th>5</th>\n",
       "      <td>2018</td>\n",
       "      <td>0.542860</td>\n",
       "      <td>5.101924</td>\n",
       "      <td>13.148514</td>\n",
       "      <td>98.476099</td>\n",
       "      <td>8.812801</td>\n",
       "      <td>25452.790132</td>\n",
       "    </tr>\n",
       "    <tr>\n",
       "      <th>6</th>\n",
       "      <td>2019</td>\n",
       "      <td>0.808372</td>\n",
       "      <td>1.691475</td>\n",
       "      <td>18.570902</td>\n",
       "      <td>99.272152</td>\n",
       "      <td>8.961867</td>\n",
       "      <td>30179.602821</td>\n",
       "    </tr>\n",
       "    <tr>\n",
       "      <th>7</th>\n",
       "      <td>2020</td>\n",
       "      <td>-0.855711</td>\n",
       "      <td>-12.858962</td>\n",
       "      <td>1.582535</td>\n",
       "      <td>98.422669</td>\n",
       "      <td>7.809464</td>\n",
       "      <td>30657.205684</td>\n",
       "    </tr>\n",
       "    <tr>\n",
       "      <th>8</th>\n",
       "      <td>2021</td>\n",
       "      <td>-0.185400</td>\n",
       "      <td>6.317082</td>\n",
       "      <td>2.728830</td>\n",
       "      <td>98.240193</td>\n",
       "      <td>8.302794</td>\n",
       "      <td>31493.788686</td>\n",
       "    </tr>\n",
       "    <tr>\n",
       "      <th>9</th>\n",
       "      <td>2022</td>\n",
       "      <td>0.830211</td>\n",
       "      <td>38.977982</td>\n",
       "      <td>43.640564</td>\n",
       "      <td>99.055794</td>\n",
       "      <td>11.539056</td>\n",
       "      <td>45237.855566</td>\n",
       "    </tr>\n",
       "  </tbody>\n",
       "</table>\n",
       "</div>"
      ],
      "text/plain": [
       "   name  loyl_din  pmnts_nmbr_din  pmnts_sum_din       loyl  pmnts_nmbr  \\\n",
       "0  2013  0.000000        0.000000       0.000000  97.665370    7.638716   \n",
       "1  2014  0.411879       -4.712742      29.318935  98.067633    7.278723   \n",
       "2  2015  0.258531       -5.386166      -1.327030  98.321168    6.886679   \n",
       "3  2016 -0.078743        7.912867      34.237311  98.243747    7.431613   \n",
       "4  2017 -0.304700       12.828866      30.140312  97.944398    8.385004   \n",
       "5  2018  0.542860        5.101924      13.148514  98.476099    8.812801   \n",
       "6  2019  0.808372        1.691475      18.570902  99.272152    8.961867   \n",
       "7  2020 -0.855711      -12.858962       1.582535  98.422669    7.809464   \n",
       "8  2021 -0.185400        6.317082       2.728830  98.240193    8.302794   \n",
       "9  2022  0.830211       38.977982      43.640564  99.055794   11.539056   \n",
       "\n",
       "      pmnts_sum  \n",
       "0  10091.161006  \n",
       "1  13049.781951  \n",
       "2  12876.607412  \n",
       "3  17285.211520  \n",
       "4  22495.028214  \n",
       "5  25452.790132  \n",
       "6  30179.602821  \n",
       "7  30657.205684  \n",
       "8  31493.788686  \n",
       "9  45237.855566  "
      ]
     },
     "execution_count": 30,
     "metadata": {},
     "output_type": "execute_result"
    }
   ],
   "source": [
    "new[new_order]"
   ]
  },
  {
   "cell_type": "code",
   "execution_count": 31,
   "metadata": {},
   "outputs": [
    {
     "data": {
      "text/plain": [
       "'{\"0\":{\"name\":2013.0,\"loyl_din\":0.0,\"pmnts_nmbr_din\":0.0,\"pmnts_sum_din\":0.0,\"loyl\":97.6653696498,\"pmnts_nmbr\":7.6387159533,\"pmnts_sum\":10091.1610058366},\"1\":{\"name\":2014.0,\"loyl_din\":0.4118790538,\"pmnts_nmbr_din\":-4.7127422743,\"pmnts_sum_din\":29.318935093,\"loyl\":98.0676328502,\"pmnts_nmbr\":7.2787229574,\"pmnts_sum\":13049.7819512707},\"2\":{\"name\":2015.0,\"loyl_din\":0.2585307972,\"pmnts_nmbr_din\":-5.3861663308,\"pmnts_sum_din\":-1.3270301336,\"loyl\":98.3211678832,\"pmnts_nmbr\":6.8866788321,\"pmnts_sum\":12876.6074124088},\"3\":{\"name\":2016.0,\"loyl_din\":-0.0787431752,\"pmnts_nmbr_din\":7.9128668701,\"pmnts_sum_din\":34.2373108592,\"loyl\":98.2437466738,\"pmnts_nmbr\":7.4316125599,\"pmnts_sum\":17285.2115203122},\"4\":{\"name\":2017.0,\"loyl_din\":-0.3047003426,\"pmnts_nmbr_din\":12.8288664775,\"pmnts_sum_din\":30.1403120671,\"loyl\":97.9443976411,\"pmnts_nmbr\":8.3850042123,\"pmnts_sum\":22495.0282139848},\"5\":{\"name\":2018.0,\"loyl_din\":0.5428602193,\"pmnts_nmbr_din\":5.1019241832,\"pmnts_sum_din\":13.1485139268,\"loyl\":98.476098813,\"pmnts_nmbr\":8.81280077,\"pmnts_sum\":25452.7901315367},\"6\":{\"name\":2019.0,\"loyl_din\":0.8083718744,\"pmnts_nmbr_din\":1.6914749638,\"pmnts_sum_din\":18.5709019139,\"loyl\":99.2721518987,\"pmnts_nmbr\":8.9618670886,\"pmnts_sum\":30179.6028212025},\"7\":{\"name\":2020.0,\"loyl_din\":-0.855711277,\"pmnts_nmbr_din\":-12.8589622075,\"pmnts_sum_din\":1.5825352825,\"loyl\":98.4226689001,\"pmnts_nmbr\":7.8094639866,\"pmnts_sum\":30657.2056839754},\"8\":{\"name\":2021.0,\"loyl_din\":-0.1853998248,\"pmnts_nmbr_din\":6.3170815681,\"pmnts_sum_din\":2.7288299229,\"loyl\":98.2401934444,\"pmnts_nmbr\":8.3027941967,\"pmnts_sum\":31493.7886861902},\"9\":{\"name\":2022.0,\"loyl_din\":0.8302106484,\"pmnts_nmbr_din\":38.9779816369,\"pmnts_sum_din\":43.6405635931,\"loyl\":99.0557939914,\"pmnts_nmbr\":11.539055794,\"pmnts_sum\":45237.8555656652}}'"
      ]
     },
     "execution_count": 31,
     "metadata": {},
     "output_type": "execute_result"
    }
   ],
   "source": [
    "new[new_order].T.to_json()"
   ]
  },
  {
   "cell_type": "code",
   "execution_count": null,
   "metadata": {},
   "outputs": [],
   "source": []
  },
  {
   "cell_type": "code",
   "execution_count": 76,
   "metadata": {},
   "outputs": [],
   "source": [
    "nmbr = df.query('year == 2022').groupby('quarter').agg({'pmnts_nmbr_per_year' : 'sum'}).reset_index()"
   ]
  },
  {
   "cell_type": "code",
   "execution_count": 77,
   "metadata": {},
   "outputs": [],
   "source": [
    "s = df.query('year == 2022').groupby('quarter').agg({'pmnts_sum_per_year' : 'sum'}).reset_index()"
   ]
  },
  {
   "cell_type": "code",
   "execution_count": 78,
   "metadata": {},
   "outputs": [],
   "source": [
    "churn = df.query('year == 2022').groupby('quarter').agg({'churn' : 'count'}).reset_index()"
   ]
  },
  {
   "cell_type": "code",
   "execution_count": 79,
   "metadata": {},
   "outputs": [],
   "source": [
    "all = df.query('year == 2022').groupby('quarter').agg({'churn' : 'count'}).reset_index()"
   ]
  },
  {
   "cell_type": "code",
   "execution_count": 80,
   "metadata": {},
   "outputs": [],
   "source": [
    "new = nmbr.merge(s.merge(all.merge(churn, on='quarter'), on='quarter') , on='quarter')"
   ]
  },
  {
   "cell_type": "code",
   "execution_count": 88,
   "metadata": {},
   "outputs": [
    {
     "data": {
      "text/html": [
       "<div>\n",
       "<style scoped>\n",
       "    .dataframe tbody tr th:only-of-type {\n",
       "        vertical-align: middle;\n",
       "    }\n",
       "\n",
       "    .dataframe tbody tr th {\n",
       "        vertical-align: top;\n",
       "    }\n",
       "\n",
       "    .dataframe thead th {\n",
       "        text-align: right;\n",
       "    }\n",
       "</style>\n",
       "<table border=\"1\" class=\"dataframe\">\n",
       "  <thead>\n",
       "    <tr style=\"text-align: right;\">\n",
       "      <th></th>\n",
       "      <th>quarter</th>\n",
       "      <th>pmnts_nmbr_per_year</th>\n",
       "      <th>pmnts_sum_per_year</th>\n",
       "      <th>loyl</th>\n",
       "      <th>loyl_din</th>\n",
       "      <th>pmnts_nmbr_din</th>\n",
       "      <th>pmnts_sum_din</th>\n",
       "    </tr>\n",
       "  </thead>\n",
       "  <tbody>\n",
       "    <tr>\n",
       "      <th>0</th>\n",
       "      <td>2022Q1</td>\n",
       "      <td>16700</td>\n",
       "      <td>64385952.63</td>\n",
       "      <td>100.0</td>\n",
       "      <td>0.0</td>\n",
       "      <td>0.000000</td>\n",
       "      <td>0.000000</td>\n",
       "    </tr>\n",
       "    <tr>\n",
       "      <th>1</th>\n",
       "      <td>2022Q2</td>\n",
       "      <td>16766</td>\n",
       "      <td>61940823.33</td>\n",
       "      <td>100.0</td>\n",
       "      <td>0.0</td>\n",
       "      <td>0.395210</td>\n",
       "      <td>-3.797613</td>\n",
       "    </tr>\n",
       "    <tr>\n",
       "      <th>2</th>\n",
       "      <td>2022Q3</td>\n",
       "      <td>16688</td>\n",
       "      <td>68744704.30</td>\n",
       "      <td>100.0</td>\n",
       "      <td>0.0</td>\n",
       "      <td>-0.465227</td>\n",
       "      <td>10.984486</td>\n",
       "    </tr>\n",
       "    <tr>\n",
       "      <th>3</th>\n",
       "      <td>2022Q4</td>\n",
       "      <td>17061</td>\n",
       "      <td>68439028.41</td>\n",
       "      <td>100.0</td>\n",
       "      <td>0.0</td>\n",
       "      <td>2.235139</td>\n",
       "      <td>-0.444654</td>\n",
       "    </tr>\n",
       "  </tbody>\n",
       "</table>\n",
       "</div>"
      ],
      "text/plain": [
       "  quarter  pmnts_nmbr_per_year  pmnts_sum_per_year   loyl  loyl_din  \\\n",
       "0  2022Q1                16700         64385952.63  100.0       0.0   \n",
       "1  2022Q2                16766         61940823.33  100.0       0.0   \n",
       "2  2022Q3                16688         68744704.30  100.0       0.0   \n",
       "3  2022Q4                17061         68439028.41  100.0       0.0   \n",
       "\n",
       "   pmnts_nmbr_din  pmnts_sum_din  \n",
       "0        0.000000       0.000000  \n",
       "1        0.395210      -3.797613  \n",
       "2       -0.465227      10.984486  \n",
       "3        2.235139      -0.444654  "
      ]
     },
     "execution_count": 88,
     "metadata": {},
     "output_type": "execute_result"
    }
   ],
   "source": [
    "new"
   ]
  },
  {
   "cell_type": "code",
   "execution_count": 82,
   "metadata": {},
   "outputs": [],
   "source": [
    "new['loyl'] = (new.churn_y / new.churn_x) * 100"
   ]
  },
  {
   "cell_type": "code",
   "execution_count": 83,
   "metadata": {},
   "outputs": [],
   "source": [
    "new.drop(['churn_x', 'churn_y'], axis=1, inplace=True)"
   ]
  },
  {
   "cell_type": "code",
   "execution_count": 84,
   "metadata": {},
   "outputs": [],
   "source": [
    "new['loyl_din'] = new['loyl'].pct_change() * 100"
   ]
  },
  {
   "cell_type": "code",
   "execution_count": 86,
   "metadata": {},
   "outputs": [],
   "source": [
    "new.loyl_din = new.loyl_din.fillna(0)"
   ]
  },
  {
   "cell_type": "code",
   "execution_count": 87,
   "metadata": {},
   "outputs": [],
   "source": [
    "new['pmnts_nmbr_din'] = new['pmnts_nmbr_per_year'].pct_change() * 100\n",
    "new.pmnts_nmbr_din = new.pmnts_nmbr_din.fillna(0)\n",
    "new['pmnts_sum_din'] = new['pmnts_sum_per_year'].pct_change() * 100\n",
    "new.pmnts_sum_din = new.pmnts_sum_din.fillna(0)"
   ]
  },
  {
   "cell_type": "code",
   "execution_count": 89,
   "metadata": {},
   "outputs": [],
   "source": [
    "new.rename(columns=({'quarter' : 'name', 'pmnts_nmbr_per_year' : 'pmnts_nmbr', 'pmnts_sum_per_year' : 'pmnts_sum'}), inplace=True)"
   ]
  },
  {
   "cell_type": "code",
   "execution_count": 90,
   "metadata": {},
   "outputs": [],
   "source": [
    "new_order = ['name', 'loyl_din', 'pmnts_nmbr_din', 'pmnts_sum_din' , 'loyl', 'pmnts_nmbr' , 'pmnts_sum']"
   ]
  },
  {
   "cell_type": "code",
   "execution_count": 91,
   "metadata": {},
   "outputs": [
    {
     "data": {
      "text/html": [
       "<div>\n",
       "<style scoped>\n",
       "    .dataframe tbody tr th:only-of-type {\n",
       "        vertical-align: middle;\n",
       "    }\n",
       "\n",
       "    .dataframe tbody tr th {\n",
       "        vertical-align: top;\n",
       "    }\n",
       "\n",
       "    .dataframe thead th {\n",
       "        text-align: right;\n",
       "    }\n",
       "</style>\n",
       "<table border=\"1\" class=\"dataframe\">\n",
       "  <thead>\n",
       "    <tr style=\"text-align: right;\">\n",
       "      <th></th>\n",
       "      <th>name</th>\n",
       "      <th>pmnts_nmbr</th>\n",
       "      <th>pmnts_sum</th>\n",
       "      <th>loyl</th>\n",
       "      <th>loyl_din</th>\n",
       "      <th>pmnts_nmbr_din</th>\n",
       "      <th>pmnts_sum_din</th>\n",
       "    </tr>\n",
       "  </thead>\n",
       "  <tbody>\n",
       "    <tr>\n",
       "      <th>0</th>\n",
       "      <td>2022Q1</td>\n",
       "      <td>16700</td>\n",
       "      <td>64385952.63</td>\n",
       "      <td>100.0</td>\n",
       "      <td>0.0</td>\n",
       "      <td>0.000000</td>\n",
       "      <td>0.000000</td>\n",
       "    </tr>\n",
       "    <tr>\n",
       "      <th>1</th>\n",
       "      <td>2022Q2</td>\n",
       "      <td>16766</td>\n",
       "      <td>61940823.33</td>\n",
       "      <td>100.0</td>\n",
       "      <td>0.0</td>\n",
       "      <td>0.395210</td>\n",
       "      <td>-3.797613</td>\n",
       "    </tr>\n",
       "    <tr>\n",
       "      <th>2</th>\n",
       "      <td>2022Q3</td>\n",
       "      <td>16688</td>\n",
       "      <td>68744704.30</td>\n",
       "      <td>100.0</td>\n",
       "      <td>0.0</td>\n",
       "      <td>-0.465227</td>\n",
       "      <td>10.984486</td>\n",
       "    </tr>\n",
       "    <tr>\n",
       "      <th>3</th>\n",
       "      <td>2022Q4</td>\n",
       "      <td>17061</td>\n",
       "      <td>68439028.41</td>\n",
       "      <td>100.0</td>\n",
       "      <td>0.0</td>\n",
       "      <td>2.235139</td>\n",
       "      <td>-0.444654</td>\n",
       "    </tr>\n",
       "  </tbody>\n",
       "</table>\n",
       "</div>"
      ],
      "text/plain": [
       "     name  pmnts_nmbr    pmnts_sum   loyl  loyl_din  pmnts_nmbr_din  \\\n",
       "0  2022Q1       16700  64385952.63  100.0       0.0        0.000000   \n",
       "1  2022Q2       16766  61940823.33  100.0       0.0        0.395210   \n",
       "2  2022Q3       16688  68744704.30  100.0       0.0       -0.465227   \n",
       "3  2022Q4       17061  68439028.41  100.0       0.0        2.235139   \n",
       "\n",
       "   pmnts_sum_din  \n",
       "0       0.000000  \n",
       "1      -3.797613  \n",
       "2      10.984486  \n",
       "3      -0.444654  "
      ]
     },
     "execution_count": 91,
     "metadata": {},
     "output_type": "execute_result"
    }
   ],
   "source": [
    "new"
   ]
  },
  {
   "cell_type": "code",
   "execution_count": 92,
   "metadata": {},
   "outputs": [
    {
     "data": {
      "text/plain": [
       "'{\"0\":{\"name\":\"2022Q1\",\"loyl_din\":0.0,\"pmnts_nmbr_din\":0.0,\"pmnts_sum_din\":0.0,\"loyl\":100.0,\"pmnts_nmbr\":16700,\"pmnts_sum\":64385952.6300000027},\"1\":{\"name\":\"2022Q2\",\"loyl_din\":0.0,\"pmnts_nmbr_din\":0.3952095808,\"pmnts_sum_din\":-3.7976129887,\"loyl\":100.0,\"pmnts_nmbr\":16766,\"pmnts_sum\":61940823.3299999982},\"2\":{\"name\":\"2022Q3\",\"loyl_din\":0.0,\"pmnts_nmbr_din\":-0.4652272456,\"pmnts_sum_din\":10.9844858434,\"loyl\":100.0,\"pmnts_nmbr\":16688,\"pmnts_sum\":68744704.299999997},\"3\":{\"name\":\"2022Q4\",\"loyl_din\":0.0,\"pmnts_nmbr_din\":2.2351390221,\"pmnts_sum_din\":-0.4446537273,\"loyl\":100.0,\"pmnts_nmbr\":17061,\"pmnts_sum\":68439028.4099999964}}'"
      ]
     },
     "execution_count": 92,
     "metadata": {},
     "output_type": "execute_result"
    }
   ],
   "source": [
    "new[new_order].T.to_json()"
   ]
  },
  {
   "cell_type": "code",
   "execution_count": 3,
   "metadata": {},
   "outputs": [],
   "source": [
    "nmbr = df.query('year == 2022').groupby('quarter').agg({'pmnts_nmbr_per_year' : 'mean'}).reset_index()"
   ]
  },
  {
   "cell_type": "code",
   "execution_count": 4,
   "metadata": {},
   "outputs": [],
   "source": [
    "s = df.query('year == 2022').groupby('quarter').agg({'pmnts_sum_per_year' : 'mean'}).reset_index()"
   ]
  },
  {
   "cell_type": "code",
   "execution_count": 5,
   "metadata": {},
   "outputs": [],
   "source": [
    "churn = df.query('year == 2022').groupby('quarter').agg({'churn' : 'count'}).reset_index()"
   ]
  },
  {
   "cell_type": "code",
   "execution_count": 6,
   "metadata": {},
   "outputs": [],
   "source": [
    "all = df.query('year == 2022').groupby('quarter').agg({'churn' : 'count'}).reset_index()"
   ]
  },
  {
   "cell_type": "code",
   "execution_count": 7,
   "metadata": {},
   "outputs": [],
   "source": [
    "new = nmbr.merge(s.merge(all.merge(churn, on='quarter'), on='quarter') , on='quarter')"
   ]
  },
  {
   "cell_type": "code",
   "execution_count": 8,
   "metadata": {},
   "outputs": [
    {
     "data": {
      "text/html": [
       "<div>\n",
       "<style scoped>\n",
       "    .dataframe tbody tr th:only-of-type {\n",
       "        vertical-align: middle;\n",
       "    }\n",
       "\n",
       "    .dataframe tbody tr th {\n",
       "        vertical-align: top;\n",
       "    }\n",
       "\n",
       "    .dataframe thead th {\n",
       "        text-align: right;\n",
       "    }\n",
       "</style>\n",
       "<table border=\"1\" class=\"dataframe\">\n",
       "  <thead>\n",
       "    <tr style=\"text-align: right;\">\n",
       "      <th></th>\n",
       "      <th>quarter</th>\n",
       "      <th>pmnts_nmbr_per_year</th>\n",
       "      <th>pmnts_sum_per_year</th>\n",
       "      <th>churn_x</th>\n",
       "      <th>churn_y</th>\n",
       "    </tr>\n",
       "  </thead>\n",
       "  <tbody>\n",
       "    <tr>\n",
       "      <th>0</th>\n",
       "      <td>2022Q1</td>\n",
       "      <td>11.802120</td>\n",
       "      <td>45502.440021</td>\n",
       "      <td>1415</td>\n",
       "      <td>1415</td>\n",
       "    </tr>\n",
       "    <tr>\n",
       "      <th>1</th>\n",
       "      <td>2022Q2</td>\n",
       "      <td>11.659249</td>\n",
       "      <td>43074.286043</td>\n",
       "      <td>1438</td>\n",
       "      <td>1438</td>\n",
       "    </tr>\n",
       "    <tr>\n",
       "      <th>2</th>\n",
       "      <td>2022Q3</td>\n",
       "      <td>11.524862</td>\n",
       "      <td>47475.624517</td>\n",
       "      <td>1448</td>\n",
       "      <td>1448</td>\n",
       "    </tr>\n",
       "    <tr>\n",
       "      <th>3</th>\n",
       "      <td>2022Q4</td>\n",
       "      <td>11.194882</td>\n",
       "      <td>44907.498957</td>\n",
       "      <td>1524</td>\n",
       "      <td>1524</td>\n",
       "    </tr>\n",
       "  </tbody>\n",
       "</table>\n",
       "</div>"
      ],
      "text/plain": [
       "  quarter  pmnts_nmbr_per_year  pmnts_sum_per_year  churn_x  churn_y\n",
       "0  2022Q1            11.802120        45502.440021     1415     1415\n",
       "1  2022Q2            11.659249        43074.286043     1438     1438\n",
       "2  2022Q3            11.524862        47475.624517     1448     1448\n",
       "3  2022Q4            11.194882        44907.498957     1524     1524"
      ]
     },
     "execution_count": 8,
     "metadata": {},
     "output_type": "execute_result"
    }
   ],
   "source": [
    "new"
   ]
  },
  {
   "cell_type": "code",
   "execution_count": 9,
   "metadata": {},
   "outputs": [],
   "source": [
    "new['loyl'] = (new.churn_y / new.churn_x) * 100"
   ]
  },
  {
   "cell_type": "code",
   "execution_count": 10,
   "metadata": {},
   "outputs": [],
   "source": [
    "new.drop(['churn_x', 'churn_y'], axis=1, inplace=True)"
   ]
  },
  {
   "cell_type": "code",
   "execution_count": 11,
   "metadata": {},
   "outputs": [],
   "source": [
    "new['loyl_din'] = new['loyl'].pct_change() * 100"
   ]
  },
  {
   "cell_type": "code",
   "execution_count": 12,
   "metadata": {},
   "outputs": [],
   "source": [
    "new.loyl_din = new.loyl_din.fillna(0)"
   ]
  },
  {
   "cell_type": "code",
   "execution_count": 13,
   "metadata": {},
   "outputs": [],
   "source": [
    "new['pmnts_nmbr_din'] = new['pmnts_nmbr_per_year'].pct_change() * 100\n",
    "new.pmnts_nmbr_din = new.pmnts_nmbr_din.fillna(0)\n",
    "new['pmnts_sum_din'] = new['pmnts_sum_per_year'].pct_change() * 100\n",
    "new.pmnts_sum_din = new.pmnts_sum_din.fillna(0)"
   ]
  },
  {
   "cell_type": "code",
   "execution_count": 14,
   "metadata": {},
   "outputs": [],
   "source": [
    "new.rename(columns=({'quarter' : 'name', 'pmnts_nmbr_per_year' : 'pmnts_nmbr', 'pmnts_sum_per_year' : 'pmnts_sum'}), inplace=True)"
   ]
  },
  {
   "cell_type": "code",
   "execution_count": 15,
   "metadata": {},
   "outputs": [],
   "source": [
    "new_order = ['name', 'loyl_din', 'pmnts_nmbr_din', 'pmnts_sum_din' , 'loyl', 'pmnts_nmbr' , 'pmnts_sum']"
   ]
  },
  {
   "cell_type": "code",
   "execution_count": 16,
   "metadata": {},
   "outputs": [
    {
     "data": {
      "text/html": [
       "<div>\n",
       "<style scoped>\n",
       "    .dataframe tbody tr th:only-of-type {\n",
       "        vertical-align: middle;\n",
       "    }\n",
       "\n",
       "    .dataframe tbody tr th {\n",
       "        vertical-align: top;\n",
       "    }\n",
       "\n",
       "    .dataframe thead th {\n",
       "        text-align: right;\n",
       "    }\n",
       "</style>\n",
       "<table border=\"1\" class=\"dataframe\">\n",
       "  <thead>\n",
       "    <tr style=\"text-align: right;\">\n",
       "      <th></th>\n",
       "      <th>name</th>\n",
       "      <th>pmnts_nmbr</th>\n",
       "      <th>pmnts_sum</th>\n",
       "      <th>loyl</th>\n",
       "      <th>loyl_din</th>\n",
       "      <th>pmnts_nmbr_din</th>\n",
       "      <th>pmnts_sum_din</th>\n",
       "    </tr>\n",
       "  </thead>\n",
       "  <tbody>\n",
       "    <tr>\n",
       "      <th>0</th>\n",
       "      <td>2022Q1</td>\n",
       "      <td>11.802120</td>\n",
       "      <td>45502.440021</td>\n",
       "      <td>100.0</td>\n",
       "      <td>0.0</td>\n",
       "      <td>0.000000</td>\n",
       "      <td>0.000000</td>\n",
       "    </tr>\n",
       "    <tr>\n",
       "      <th>1</th>\n",
       "      <td>2022Q2</td>\n",
       "      <td>11.659249</td>\n",
       "      <td>43074.286043</td>\n",
       "      <td>100.0</td>\n",
       "      <td>0.0</td>\n",
       "      <td>-1.210555</td>\n",
       "      <td>-5.336316</td>\n",
       "    </tr>\n",
       "    <tr>\n",
       "      <th>2</th>\n",
       "      <td>2022Q3</td>\n",
       "      <td>11.524862</td>\n",
       "      <td>47475.624517</td>\n",
       "      <td>100.0</td>\n",
       "      <td>0.0</td>\n",
       "      <td>-1.152622</td>\n",
       "      <td>10.218018</td>\n",
       "    </tr>\n",
       "    <tr>\n",
       "      <th>3</th>\n",
       "      <td>2022Q4</td>\n",
       "      <td>11.194882</td>\n",
       "      <td>44907.498957</td>\n",
       "      <td>100.0</td>\n",
       "      <td>0.0</td>\n",
       "      <td>-2.863201</td>\n",
       "      <td>-5.409356</td>\n",
       "    </tr>\n",
       "  </tbody>\n",
       "</table>\n",
       "</div>"
      ],
      "text/plain": [
       "     name  pmnts_nmbr     pmnts_sum   loyl  loyl_din  pmnts_nmbr_din  \\\n",
       "0  2022Q1   11.802120  45502.440021  100.0       0.0        0.000000   \n",
       "1  2022Q2   11.659249  43074.286043  100.0       0.0       -1.210555   \n",
       "2  2022Q3   11.524862  47475.624517  100.0       0.0       -1.152622   \n",
       "3  2022Q4   11.194882  44907.498957  100.0       0.0       -2.863201   \n",
       "\n",
       "   pmnts_sum_din  \n",
       "0       0.000000  \n",
       "1      -5.336316  \n",
       "2      10.218018  \n",
       "3      -5.409356  "
      ]
     },
     "execution_count": 16,
     "metadata": {},
     "output_type": "execute_result"
    }
   ],
   "source": [
    "new"
   ]
  },
  {
   "cell_type": "code",
   "execution_count": 17,
   "metadata": {},
   "outputs": [
    {
     "data": {
      "text/plain": [
       "'{\"0\":{\"name\":\"2022Q1\",\"loyl_din\":0.0,\"pmnts_nmbr_din\":0.0,\"pmnts_sum_din\":0.0,\"loyl\":100.0,\"pmnts_nmbr\":11.8021201413,\"pmnts_sum\":45502.4400212014},\"1\":{\"name\":\"2022Q2\",\"loyl_din\":0.0,\"pmnts_nmbr_din\":-1.2105552456,\"pmnts_sum_din\":-5.3363159799,\"loyl\":100.0,\"pmnts_nmbr\":11.6592489569,\"pmnts_sum\":43074.2860431154},\"2\":{\"name\":\"2022Q3\",\"loyl_din\":0.0,\"pmnts_nmbr_din\":-1.1526220851,\"pmnts_sum_din\":10.2180183998,\"loyl\":100.0,\"pmnts_nmbr\":11.5248618785,\"pmnts_sum\":47475.6245165746},\"3\":{\"name\":\"2022Q4\",\"loyl_din\":0.0,\"pmnts_nmbr_din\":-2.8632012441,\"pmnts_sum_din\":-5.4093560349,\"loyl\":100.0,\"pmnts_nmbr\":11.1948818898,\"pmnts_sum\":44907.4989566929}}'"
      ]
     },
     "execution_count": 17,
     "metadata": {},
     "output_type": "execute_result"
    }
   ],
   "source": [
    "new[new_order].T.to_json()"
   ]
  },
  {
   "cell_type": "code",
   "execution_count": null,
   "metadata": {},
   "outputs": [],
   "source": []
  }
 ],
 "metadata": {
  "kernelspec": {
   "display_name": "Python 3 (ipykernel)",
   "language": "python",
   "name": "python3"
  },
  "language_info": {
   "codemirror_mode": {
    "name": "ipython",
    "version": 3
   },
   "file_extension": ".py",
   "mimetype": "text/x-python",
   "name": "python",
   "nbconvert_exporter": "python",
   "pygments_lexer": "ipython3",
   "version": "3.9.6"
  }
 },
 "nbformat": 4,
 "nbformat_minor": 2
}
