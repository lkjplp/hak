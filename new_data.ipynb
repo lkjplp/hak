{
 "cells": [
  {
   "cell_type": "code",
   "execution_count": 1,
   "metadata": {},
   "outputs": [],
   "source": [
    "import pandas as pd\n",
    "import numpy as np\n",
    "import matplotlib.pyplot as plt\n",
    "import seaborn as sns"
   ]
  },
  {
   "cell_type": "code",
   "execution_count": 46,
   "metadata": {},
   "outputs": [],
   "source": [
    "df = pd.read_csv(\"train_zip_preprocessed.csv\")\n",
    "df.drop('Unnamed: 0', axis=1, inplace=True)"
   ]
  },
  {
   "cell_type": "code",
   "execution_count": 47,
   "metadata": {},
   "outputs": [],
   "source": [
    "df.drop('Unnamed: 0', axis=1, inplace=True)"
   ]
  },
  {
   "cell_type": "code",
   "execution_count": 67,
   "metadata": {},
   "outputs": [
    {
     "data": {
      "text/plain": [
       "(100000, 36)"
      ]
     },
     "execution_count": 67,
     "metadata": {},
     "output_type": "execute_result"
    }
   ],
   "source": [
    "df.shape"
   ]
  },
  {
   "cell_type": "code",
   "execution_count": 65,
   "metadata": {},
   "outputs": [],
   "source": [
    "df = df.drop(0)"
   ]
  },
  {
   "cell_type": "code",
   "execution_count": 66,
   "metadata": {},
   "outputs": [
    {
     "data": {
      "text/html": [
       "<div>\n",
       "<style scoped>\n",
       "    .dataframe tbody tr th:only-of-type {\n",
       "        vertical-align: middle;\n",
       "    }\n",
       "\n",
       "    .dataframe tbody tr th {\n",
       "        vertical-align: top;\n",
       "    }\n",
       "\n",
       "    .dataframe thead th {\n",
       "        text-align: right;\n",
       "    }\n",
       "</style>\n",
       "<table border=\"1\" class=\"dataframe\">\n",
       "  <thead>\n",
       "    <tr style=\"text-align: right;\">\n",
       "      <th></th>\n",
       "      <th>npo_account_id</th>\n",
       "      <th>npo_accnts_nmbr</th>\n",
       "      <th>pmnts_type</th>\n",
       "      <th>year</th>\n",
       "      <th>quarter</th>\n",
       "      <th>gender</th>\n",
       "      <th>age</th>\n",
       "      <th>clnt_cprtn_time_d</th>\n",
       "      <th>actv_prd_d</th>\n",
       "      <th>lst_pmnt_rcnc_d</th>\n",
       "      <th>...</th>\n",
       "      <th>assignee_ops</th>\n",
       "      <th>region</th>\n",
       "      <th>citizen</th>\n",
       "      <th>fact_addrss</th>\n",
       "      <th>appl_mrkr</th>\n",
       "      <th>evry_qrtr_pmnt</th>\n",
       "      <th>churn</th>\n",
       "      <th>npo_sum_doxod</th>\n",
       "      <th>npo_sum_vsnos</th>\n",
       "      <th>accnt_pnsn_schm</th>\n",
       "    </tr>\n",
       "  </thead>\n",
       "  <tbody>\n",
       "    <tr>\n",
       "      <th>1</th>\n",
       "      <td>0x30405A5ED70D134DBACEA479F4CA1E4A</td>\n",
       "      <td>1</td>\n",
       "      <td>2</td>\n",
       "      <td>2015</td>\n",
       "      <td>2015Q4</td>\n",
       "      <td>-1</td>\n",
       "      <td>39</td>\n",
       "      <td>1191</td>\n",
       "      <td>244</td>\n",
       "      <td>947</td>\n",
       "      <td>...</td>\n",
       "      <td>-1</td>\n",
       "      <td>МОСКОВСКАЯ ОБЛ</td>\n",
       "      <td>1</td>\n",
       "      <td>-1</td>\n",
       "      <td>0</td>\n",
       "      <td>0</td>\n",
       "      <td>0</td>\n",
       "      <td>NaN</td>\n",
       "      <td>NaN</td>\n",
       "      <td>62.0</td>\n",
       "    </tr>\n",
       "    <tr>\n",
       "      <th>2</th>\n",
       "      <td>0x810C005056AB57EC11EBA287AC552DD7</td>\n",
       "      <td>2</td>\n",
       "      <td>1</td>\n",
       "      <td>2022</td>\n",
       "      <td>2022Q2</td>\n",
       "      <td>1</td>\n",
       "      <td>47</td>\n",
       "      <td>801</td>\n",
       "      <td>778</td>\n",
       "      <td>31</td>\n",
       "      <td>...</td>\n",
       "      <td>-1</td>\n",
       "      <td>ВОЛОГОДСКАЯ ОБЛ</td>\n",
       "      <td>1</td>\n",
       "      <td>1</td>\n",
       "      <td>0</td>\n",
       "      <td>1</td>\n",
       "      <td>0</td>\n",
       "      <td>NaN</td>\n",
       "      <td>4878.03</td>\n",
       "      <td>11.0</td>\n",
       "    </tr>\n",
       "    <tr>\n",
       "      <th>3</th>\n",
       "      <td>0x3225ED4DFFCD4042BB36FE353B42ACBD</td>\n",
       "      <td>1</td>\n",
       "      <td>2</td>\n",
       "      <td>2020</td>\n",
       "      <td>2020Q4</td>\n",
       "      <td>1</td>\n",
       "      <td>48</td>\n",
       "      <td>7875</td>\n",
       "      <td>0</td>\n",
       "      <td>5844</td>\n",
       "      <td>...</td>\n",
       "      <td>-1</td>\n",
       "      <td>ЛИПЕЦКАЯ ОБЛ</td>\n",
       "      <td>1</td>\n",
       "      <td>1</td>\n",
       "      <td>0</td>\n",
       "      <td>0</td>\n",
       "      <td>0</td>\n",
       "      <td>88.76</td>\n",
       "      <td>NaN</td>\n",
       "      <td>354.0</td>\n",
       "    </tr>\n",
       "    <tr>\n",
       "      <th>4</th>\n",
       "      <td>0x58998F4E17293D49953B9943F2B794E3</td>\n",
       "      <td>1</td>\n",
       "      <td>2</td>\n",
       "      <td>2012</td>\n",
       "      <td>2012Q4</td>\n",
       "      <td>1</td>\n",
       "      <td>38</td>\n",
       "      <td>3452</td>\n",
       "      <td>0</td>\n",
       "      <td>2557</td>\n",
       "      <td>...</td>\n",
       "      <td>-1</td>\n",
       "      <td>ВОЛОГОДСКАЯ ОБЛ</td>\n",
       "      <td>1</td>\n",
       "      <td>1</td>\n",
       "      <td>0</td>\n",
       "      <td>0</td>\n",
       "      <td>0</td>\n",
       "      <td>217.66</td>\n",
       "      <td>NaN</td>\n",
       "      <td>0.0</td>\n",
       "    </tr>\n",
       "    <tr>\n",
       "      <th>5</th>\n",
       "      <td>0x6C27F78E74DD3E428A8121F0E7E747A0</td>\n",
       "      <td>2</td>\n",
       "      <td>1</td>\n",
       "      <td>2018</td>\n",
       "      <td>2018Q2</td>\n",
       "      <td>-1</td>\n",
       "      <td>48</td>\n",
       "      <td>804</td>\n",
       "      <td>730</td>\n",
       "      <td>28</td>\n",
       "      <td>...</td>\n",
       "      <td>-1</td>\n",
       "      <td>БАШКОРТОСТАН РЕСП</td>\n",
       "      <td>-1</td>\n",
       "      <td>1</td>\n",
       "      <td>0</td>\n",
       "      <td>1</td>\n",
       "      <td>0</td>\n",
       "      <td>NaN</td>\n",
       "      <td>4181.23</td>\n",
       "      <td>351.0</td>\n",
       "    </tr>\n",
       "  </tbody>\n",
       "</table>\n",
       "<p>5 rows × 36 columns</p>\n",
       "</div>"
      ],
      "text/plain": [
       "                       npo_account_id  npo_accnts_nmbr  pmnts_type  year  \\\n",
       "1  0x30405A5ED70D134DBACEA479F4CA1E4A                1           2  2015   \n",
       "2  0x810C005056AB57EC11EBA287AC552DD7                2           1  2022   \n",
       "3  0x3225ED4DFFCD4042BB36FE353B42ACBD                1           2  2020   \n",
       "4  0x58998F4E17293D49953B9943F2B794E3                1           2  2012   \n",
       "5  0x6C27F78E74DD3E428A8121F0E7E747A0                2           1  2018   \n",
       "\n",
       "  quarter  gender  age  clnt_cprtn_time_d  actv_prd_d  lst_pmnt_rcnc_d  ...  \\\n",
       "1  2015Q4      -1   39               1191         244              947  ...   \n",
       "2  2022Q2       1   47                801         778               31  ...   \n",
       "3  2020Q4       1   48               7875           0             5844  ...   \n",
       "4  2012Q4       1   38               3452           0             2557  ...   \n",
       "5  2018Q2      -1   48                804         730               28  ...   \n",
       "\n",
       "   assignee_ops             region  citizen fact_addrss appl_mrkr  \\\n",
       "1            -1     МОСКОВСКАЯ ОБЛ        1          -1         0   \n",
       "2            -1    ВОЛОГОДСКАЯ ОБЛ        1           1         0   \n",
       "3            -1       ЛИПЕЦКАЯ ОБЛ        1           1         0   \n",
       "4            -1    ВОЛОГОДСКАЯ ОБЛ        1           1         0   \n",
       "5            -1  БАШКОРТОСТАН РЕСП       -1           1         0   \n",
       "\n",
       "   evry_qrtr_pmnt  churn  npo_sum_doxod  npo_sum_vsnos  accnt_pnsn_schm  \n",
       "1               0      0            NaN            NaN             62.0  \n",
       "2               1      0            NaN        4878.03             11.0  \n",
       "3               0      0          88.76            NaN            354.0  \n",
       "4               0      0         217.66            NaN              0.0  \n",
       "5               1      0            NaN        4181.23            351.0  \n",
       "\n",
       "[5 rows x 36 columns]"
      ]
     },
     "execution_count": 66,
     "metadata": {},
     "output_type": "execute_result"
    }
   ],
   "source": [
    "df.head()"
   ]
  },
  {
   "cell_type": "code",
   "execution_count": 58,
   "metadata": {},
   "outputs": [],
   "source": [
    "cntrbtrs = pd.read_csv('train/cntrbtrs.csv', sep=';')"
   ]
  },
  {
   "cell_type": "code",
   "execution_count": 62,
   "metadata": {},
   "outputs": [
    {
     "data": {
      "text/html": [
       "<div>\n",
       "<style scoped>\n",
       "    .dataframe tbody tr th:only-of-type {\n",
       "        vertical-align: middle;\n",
       "    }\n",
       "\n",
       "    .dataframe tbody tr th {\n",
       "        vertical-align: top;\n",
       "    }\n",
       "\n",
       "    .dataframe thead th {\n",
       "        text-align: right;\n",
       "    }\n",
       "</style>\n",
       "<table border=\"1\" class=\"dataframe\">\n",
       "  <thead>\n",
       "    <tr style=\"text-align: right;\">\n",
       "      <th></th>\n",
       "      <th>npo_account_id</th>\n",
       "      <th>accnt_pnsn_schm</th>\n",
       "    </tr>\n",
       "  </thead>\n",
       "  <tbody>\n",
       "    <tr>\n",
       "      <th>0</th>\n",
       "      <td>0x66FC8B311E1E204187F41966B73E313F</td>\n",
       "      <td>0.0</td>\n",
       "    </tr>\n",
       "    <tr>\n",
       "      <th>1</th>\n",
       "      <td>0x675F74AFB447EF40AF1E4C042CCA440C</td>\n",
       "      <td>0.0</td>\n",
       "    </tr>\n",
       "    <tr>\n",
       "      <th>2</th>\n",
       "      <td>0x6FFA52921209184BA47B1E919B713894</td>\n",
       "      <td>0.0</td>\n",
       "    </tr>\n",
       "    <tr>\n",
       "      <th>3</th>\n",
       "      <td>0xB51B4374207FE0458B29FD1F9CBF69EB</td>\n",
       "      <td>1.0</td>\n",
       "    </tr>\n",
       "    <tr>\n",
       "      <th>4</th>\n",
       "      <td>0x7AC3935CC4DADE419F8378B9C276DEF7</td>\n",
       "      <td>2.0</td>\n",
       "    </tr>\n",
       "  </tbody>\n",
       "</table>\n",
       "</div>"
      ],
      "text/plain": [
       "                       npo_account_id  accnt_pnsn_schm\n",
       "0  0x66FC8B311E1E204187F41966B73E313F              0.0\n",
       "1  0x675F74AFB447EF40AF1E4C042CCA440C              0.0\n",
       "2  0x6FFA52921209184BA47B1E919B713894              0.0\n",
       "3  0xB51B4374207FE0458B29FD1F9CBF69EB              1.0\n",
       "4  0x7AC3935CC4DADE419F8378B9C276DEF7              2.0"
      ]
     },
     "execution_count": 62,
     "metadata": {},
     "output_type": "execute_result"
    }
   ],
   "source": [
    "cntrbtrs.head()"
   ]
  },
  {
   "cell_type": "code",
   "execution_count": 60,
   "metadata": {},
   "outputs": [],
   "source": [
    "cntrbtrs.rename(columns=({'npo_accnt_id' : 'npo_account_id'}), inplace=True)"
   ]
  },
  {
   "cell_type": "code",
   "execution_count": 61,
   "metadata": {},
   "outputs": [],
   "source": [
    "cntrbtrs.drop('slctn_nmbr', axis=1, inplace=True)"
   ]
  },
  {
   "cell_type": "code",
   "execution_count": 63,
   "metadata": {},
   "outputs": [],
   "source": [
    "df = df.merge(cntrbtrs, how='left', on='npo_account_id')"
   ]
  },
  {
   "cell_type": "code",
   "execution_count": 41,
   "metadata": {},
   "outputs": [],
   "source": [
    "trnsctns = pd.read_csv('train/trnsctns.csv', sep=';')"
   ]
  },
  {
   "cell_type": "code",
   "execution_count": 42,
   "metadata": {},
   "outputs": [
    {
     "data": {
      "text/html": [
       "<div>\n",
       "<style scoped>\n",
       "    .dataframe tbody tr th:only-of-type {\n",
       "        vertical-align: middle;\n",
       "    }\n",
       "\n",
       "    .dataframe tbody tr th {\n",
       "        vertical-align: top;\n",
       "    }\n",
       "\n",
       "    .dataframe thead th {\n",
       "        text-align: right;\n",
       "    }\n",
       "</style>\n",
       "<table border=\"1\" class=\"dataframe\">\n",
       "  <thead>\n",
       "    <tr style=\"text-align: right;\">\n",
       "      <th></th>\n",
       "      <th>slctn_nmbr</th>\n",
       "      <th>npo_account_id</th>\n",
       "      <th>npo_sum</th>\n",
       "      <th>npo_oprtn_date</th>\n",
       "      <th>npo_oprtn_grp</th>\n",
       "      <th>quarter</th>\n",
       "      <th>year</th>\n",
       "    </tr>\n",
       "  </thead>\n",
       "  <tbody>\n",
       "    <tr>\n",
       "      <th>0</th>\n",
       "      <td>2</td>\n",
       "      <td>0x555990CC98CCF8469BE5911D37811A4A</td>\n",
       "      <td>57.72</td>\n",
       "      <td>2000-01-02</td>\n",
       "      <td>0</td>\n",
       "      <td>2000Q1</td>\n",
       "      <td>2000</td>\n",
       "    </tr>\n",
       "    <tr>\n",
       "      <th>1</th>\n",
       "      <td>2</td>\n",
       "      <td>0x555990CC98CCF8469BE5911D37811A4A</td>\n",
       "      <td>288.61</td>\n",
       "      <td>2000-01-03</td>\n",
       "      <td>0</td>\n",
       "      <td>2000Q1</td>\n",
       "      <td>2000</td>\n",
       "    </tr>\n",
       "    <tr>\n",
       "      <th>2</th>\n",
       "      <td>2</td>\n",
       "      <td>0x555990CC98CCF8469BE5911D37811A4A</td>\n",
       "      <td>78.04</td>\n",
       "      <td>2000-01-16</td>\n",
       "      <td>1</td>\n",
       "      <td>2000Q1</td>\n",
       "      <td>2000</td>\n",
       "    </tr>\n",
       "    <tr>\n",
       "      <th>3</th>\n",
       "      <td>2</td>\n",
       "      <td>0x555990CC98CCF8469BE5911D37811A4A</td>\n",
       "      <td>78.04</td>\n",
       "      <td>2000-02-15</td>\n",
       "      <td>1</td>\n",
       "      <td>2000Q1</td>\n",
       "      <td>2000</td>\n",
       "    </tr>\n",
       "    <tr>\n",
       "      <th>4</th>\n",
       "      <td>2</td>\n",
       "      <td>0x555990CC98CCF8469BE5911D37811A4A</td>\n",
       "      <td>85.36</td>\n",
       "      <td>2000-03-16</td>\n",
       "      <td>1</td>\n",
       "      <td>2000Q1</td>\n",
       "      <td>2000</td>\n",
       "    </tr>\n",
       "  </tbody>\n",
       "</table>\n",
       "</div>"
      ],
      "text/plain": [
       "   slctn_nmbr                      npo_account_id  npo_sum npo_oprtn_date  \\\n",
       "0           2  0x555990CC98CCF8469BE5911D37811A4A    57.72     2000-01-02   \n",
       "1           2  0x555990CC98CCF8469BE5911D37811A4A   288.61     2000-01-03   \n",
       "2           2  0x555990CC98CCF8469BE5911D37811A4A    78.04     2000-01-16   \n",
       "3           2  0x555990CC98CCF8469BE5911D37811A4A    78.04     2000-02-15   \n",
       "4           2  0x555990CC98CCF8469BE5911D37811A4A    85.36     2000-03-16   \n",
       "\n",
       "   npo_oprtn_grp quarter  year  \n",
       "0              0  2000Q1  2000  \n",
       "1              0  2000Q1  2000  \n",
       "2              1  2000Q1  2000  \n",
       "3              1  2000Q1  2000  \n",
       "4              1  2000Q1  2000  "
      ]
     },
     "execution_count": 42,
     "metadata": {},
     "output_type": "execute_result"
    }
   ],
   "source": [
    "trnsctns.head()"
   ]
  },
  {
   "cell_type": "code",
   "execution_count": 44,
   "metadata": {},
   "outputs": [],
   "source": [
    "npo_sum_doxod = trnsctns.query('npo_oprtn_grp == 0').groupby(['npo_account_id', 'quarter']).agg({'npo_sum' : 'sum'}).reset_index()\\\n",
    "    .rename(columns=({'npo_sum' : 'npo_sum_doxod'}))"
   ]
  },
  {
   "cell_type": "code",
   "execution_count": 45,
   "metadata": {},
   "outputs": [
    {
     "data": {
      "text/html": [
       "<div>\n",
       "<style scoped>\n",
       "    .dataframe tbody tr th:only-of-type {\n",
       "        vertical-align: middle;\n",
       "    }\n",
       "\n",
       "    .dataframe tbody tr th {\n",
       "        vertical-align: top;\n",
       "    }\n",
       "\n",
       "    .dataframe thead th {\n",
       "        text-align: right;\n",
       "    }\n",
       "</style>\n",
       "<table border=\"1\" class=\"dataframe\">\n",
       "  <thead>\n",
       "    <tr style=\"text-align: right;\">\n",
       "      <th></th>\n",
       "      <th>npo_account_id</th>\n",
       "      <th>quarter</th>\n",
       "      <th>npo_sum_doxod</th>\n",
       "    </tr>\n",
       "  </thead>\n",
       "  <tbody>\n",
       "    <tr>\n",
       "      <th>0</th>\n",
       "      <td>0x0000132B2D126446B3E105530BA834B9</td>\n",
       "      <td>2008Q4</td>\n",
       "      <td>1629.93</td>\n",
       "    </tr>\n",
       "    <tr>\n",
       "      <th>1</th>\n",
       "      <td>0x0000132B2D126446B3E105530BA834B9</td>\n",
       "      <td>2009Q4</td>\n",
       "      <td>2771.23</td>\n",
       "    </tr>\n",
       "    <tr>\n",
       "      <th>2</th>\n",
       "      <td>0x0000132B2D126446B3E105530BA834B9</td>\n",
       "      <td>2010Q4</td>\n",
       "      <td>3714.37</td>\n",
       "    </tr>\n",
       "    <tr>\n",
       "      <th>3</th>\n",
       "      <td>0x0000132B2D126446B3E105530BA834B9</td>\n",
       "      <td>2012Q1</td>\n",
       "      <td>4581.78</td>\n",
       "    </tr>\n",
       "    <tr>\n",
       "      <th>4</th>\n",
       "      <td>0x0000132B2D126446B3E105530BA834B9</td>\n",
       "      <td>2012Q4</td>\n",
       "      <td>10996.86</td>\n",
       "    </tr>\n",
       "  </tbody>\n",
       "</table>\n",
       "</div>"
      ],
      "text/plain": [
       "                       npo_account_id quarter  npo_sum_doxod\n",
       "0  0x0000132B2D126446B3E105530BA834B9  2008Q4        1629.93\n",
       "1  0x0000132B2D126446B3E105530BA834B9  2009Q4        2771.23\n",
       "2  0x0000132B2D126446B3E105530BA834B9  2010Q4        3714.37\n",
       "3  0x0000132B2D126446B3E105530BA834B9  2012Q1        4581.78\n",
       "4  0x0000132B2D126446B3E105530BA834B9  2012Q4       10996.86"
      ]
     },
     "execution_count": 45,
     "metadata": {},
     "output_type": "execute_result"
    }
   ],
   "source": [
    "npo_sum_doxod.head()"
   ]
  },
  {
   "cell_type": "code",
   "execution_count": 53,
   "metadata": {},
   "outputs": [],
   "source": [
    "npo_sum_vsnos = trnsctns.query('npo_oprtn_grp == 1').groupby(['npo_account_id', 'quarter']).agg({'npo_sum' : 'sum'}).reset_index()\\\n",
    "    .rename(columns=({'npo_sum' : 'npo_sum_vsnos'}))"
   ]
  },
  {
   "cell_type": "code",
   "execution_count": 54,
   "metadata": {},
   "outputs": [
    {
     "data": {
      "text/html": [
       "<div>\n",
       "<style scoped>\n",
       "    .dataframe tbody tr th:only-of-type {\n",
       "        vertical-align: middle;\n",
       "    }\n",
       "\n",
       "    .dataframe tbody tr th {\n",
       "        vertical-align: top;\n",
       "    }\n",
       "\n",
       "    .dataframe thead th {\n",
       "        text-align: right;\n",
       "    }\n",
       "</style>\n",
       "<table border=\"1\" class=\"dataframe\">\n",
       "  <thead>\n",
       "    <tr style=\"text-align: right;\">\n",
       "      <th></th>\n",
       "      <th>npo_account_id</th>\n",
       "      <th>quarter</th>\n",
       "      <th>npo_sum_vsnos</th>\n",
       "    </tr>\n",
       "  </thead>\n",
       "  <tbody>\n",
       "    <tr>\n",
       "      <th>0</th>\n",
       "      <td>0x0000132B2D126446B3E105530BA834B9</td>\n",
       "      <td>2008Q1</td>\n",
       "      <td>6853.63</td>\n",
       "    </tr>\n",
       "    <tr>\n",
       "      <th>1</th>\n",
       "      <td>0x0000132B2D126446B3E105530BA834B9</td>\n",
       "      <td>2008Q2</td>\n",
       "      <td>4317.07</td>\n",
       "    </tr>\n",
       "    <tr>\n",
       "      <th>2</th>\n",
       "      <td>0x0000132B2D126446B3E105530BA834B9</td>\n",
       "      <td>2008Q3</td>\n",
       "      <td>14635.33</td>\n",
       "    </tr>\n",
       "    <tr>\n",
       "      <th>3</th>\n",
       "      <td>0x0000132B2D126446B3E105530BA834B9</td>\n",
       "      <td>2008Q4</td>\n",
       "      <td>8994.35</td>\n",
       "    </tr>\n",
       "    <tr>\n",
       "      <th>4</th>\n",
       "      <td>0x0000132B2D126446B3E105530BA834B9</td>\n",
       "      <td>2009Q1</td>\n",
       "      <td>12427.12</td>\n",
       "    </tr>\n",
       "  </tbody>\n",
       "</table>\n",
       "</div>"
      ],
      "text/plain": [
       "                       npo_account_id quarter  npo_sum_vsnos\n",
       "0  0x0000132B2D126446B3E105530BA834B9  2008Q1        6853.63\n",
       "1  0x0000132B2D126446B3E105530BA834B9  2008Q2        4317.07\n",
       "2  0x0000132B2D126446B3E105530BA834B9  2008Q3       14635.33\n",
       "3  0x0000132B2D126446B3E105530BA834B9  2008Q4        8994.35\n",
       "4  0x0000132B2D126446B3E105530BA834B9  2009Q1       12427.12"
      ]
     },
     "execution_count": 54,
     "metadata": {},
     "output_type": "execute_result"
    }
   ],
   "source": [
    "npo_sum_vsnos.head()"
   ]
  },
  {
   "cell_type": "code",
   "execution_count": 50,
   "metadata": {},
   "outputs": [],
   "source": [
    "df = df.merge(npo_sum_doxod, how='left', on=['npo_account_id', 'quarter'])"
   ]
  },
  {
   "cell_type": "code",
   "execution_count": 55,
   "metadata": {},
   "outputs": [],
   "source": [
    "df = df.merge(npo_sum_vsnos, how='left', on=['npo_account_id', 'quarter'])"
   ]
  },
  {
   "cell_type": "code",
   "execution_count": 68,
   "metadata": {},
   "outputs": [
    {
     "data": {
      "text/html": [
       "<div>\n",
       "<style scoped>\n",
       "    .dataframe tbody tr th:only-of-type {\n",
       "        vertical-align: middle;\n",
       "    }\n",
       "\n",
       "    .dataframe tbody tr th {\n",
       "        vertical-align: top;\n",
       "    }\n",
       "\n",
       "    .dataframe thead th {\n",
       "        text-align: right;\n",
       "    }\n",
       "</style>\n",
       "<table border=\"1\" class=\"dataframe\">\n",
       "  <thead>\n",
       "    <tr style=\"text-align: right;\">\n",
       "      <th></th>\n",
       "      <th>npo_account_id</th>\n",
       "      <th>npo_accnts_nmbr</th>\n",
       "      <th>pmnts_type</th>\n",
       "      <th>year</th>\n",
       "      <th>quarter</th>\n",
       "      <th>gender</th>\n",
       "      <th>age</th>\n",
       "      <th>clnt_cprtn_time_d</th>\n",
       "      <th>actv_prd_d</th>\n",
       "      <th>lst_pmnt_rcnc_d</th>\n",
       "      <th>...</th>\n",
       "      <th>assignee_ops</th>\n",
       "      <th>region</th>\n",
       "      <th>citizen</th>\n",
       "      <th>fact_addrss</th>\n",
       "      <th>appl_mrkr</th>\n",
       "      <th>evry_qrtr_pmnt</th>\n",
       "      <th>churn</th>\n",
       "      <th>npo_sum_doxod</th>\n",
       "      <th>npo_sum_vsnos</th>\n",
       "      <th>accnt_pnsn_schm</th>\n",
       "    </tr>\n",
       "  </thead>\n",
       "  <tbody>\n",
       "    <tr>\n",
       "      <th>1</th>\n",
       "      <td>0x30405A5ED70D134DBACEA479F4CA1E4A</td>\n",
       "      <td>1</td>\n",
       "      <td>2</td>\n",
       "      <td>2015</td>\n",
       "      <td>2015Q4</td>\n",
       "      <td>-1</td>\n",
       "      <td>39</td>\n",
       "      <td>1191</td>\n",
       "      <td>244</td>\n",
       "      <td>947</td>\n",
       "      <td>...</td>\n",
       "      <td>-1</td>\n",
       "      <td>МОСКОВСКАЯ ОБЛ</td>\n",
       "      <td>1</td>\n",
       "      <td>-1</td>\n",
       "      <td>0</td>\n",
       "      <td>0</td>\n",
       "      <td>0</td>\n",
       "      <td>NaN</td>\n",
       "      <td>NaN</td>\n",
       "      <td>62.0</td>\n",
       "    </tr>\n",
       "    <tr>\n",
       "      <th>2</th>\n",
       "      <td>0x810C005056AB57EC11EBA287AC552DD7</td>\n",
       "      <td>2</td>\n",
       "      <td>1</td>\n",
       "      <td>2022</td>\n",
       "      <td>2022Q2</td>\n",
       "      <td>1</td>\n",
       "      <td>47</td>\n",
       "      <td>801</td>\n",
       "      <td>778</td>\n",
       "      <td>31</td>\n",
       "      <td>...</td>\n",
       "      <td>-1</td>\n",
       "      <td>ВОЛОГОДСКАЯ ОБЛ</td>\n",
       "      <td>1</td>\n",
       "      <td>1</td>\n",
       "      <td>0</td>\n",
       "      <td>1</td>\n",
       "      <td>0</td>\n",
       "      <td>NaN</td>\n",
       "      <td>4878.03</td>\n",
       "      <td>11.0</td>\n",
       "    </tr>\n",
       "    <tr>\n",
       "      <th>3</th>\n",
       "      <td>0x3225ED4DFFCD4042BB36FE353B42ACBD</td>\n",
       "      <td>1</td>\n",
       "      <td>2</td>\n",
       "      <td>2020</td>\n",
       "      <td>2020Q4</td>\n",
       "      <td>1</td>\n",
       "      <td>48</td>\n",
       "      <td>7875</td>\n",
       "      <td>0</td>\n",
       "      <td>5844</td>\n",
       "      <td>...</td>\n",
       "      <td>-1</td>\n",
       "      <td>ЛИПЕЦКАЯ ОБЛ</td>\n",
       "      <td>1</td>\n",
       "      <td>1</td>\n",
       "      <td>0</td>\n",
       "      <td>0</td>\n",
       "      <td>0</td>\n",
       "      <td>88.76</td>\n",
       "      <td>NaN</td>\n",
       "      <td>354.0</td>\n",
       "    </tr>\n",
       "    <tr>\n",
       "      <th>4</th>\n",
       "      <td>0x58998F4E17293D49953B9943F2B794E3</td>\n",
       "      <td>1</td>\n",
       "      <td>2</td>\n",
       "      <td>2012</td>\n",
       "      <td>2012Q4</td>\n",
       "      <td>1</td>\n",
       "      <td>38</td>\n",
       "      <td>3452</td>\n",
       "      <td>0</td>\n",
       "      <td>2557</td>\n",
       "      <td>...</td>\n",
       "      <td>-1</td>\n",
       "      <td>ВОЛОГОДСКАЯ ОБЛ</td>\n",
       "      <td>1</td>\n",
       "      <td>1</td>\n",
       "      <td>0</td>\n",
       "      <td>0</td>\n",
       "      <td>0</td>\n",
       "      <td>217.66</td>\n",
       "      <td>NaN</td>\n",
       "      <td>0.0</td>\n",
       "    </tr>\n",
       "    <tr>\n",
       "      <th>5</th>\n",
       "      <td>0x6C27F78E74DD3E428A8121F0E7E747A0</td>\n",
       "      <td>2</td>\n",
       "      <td>1</td>\n",
       "      <td>2018</td>\n",
       "      <td>2018Q2</td>\n",
       "      <td>-1</td>\n",
       "      <td>48</td>\n",
       "      <td>804</td>\n",
       "      <td>730</td>\n",
       "      <td>28</td>\n",
       "      <td>...</td>\n",
       "      <td>-1</td>\n",
       "      <td>БАШКОРТОСТАН РЕСП</td>\n",
       "      <td>-1</td>\n",
       "      <td>1</td>\n",
       "      <td>0</td>\n",
       "      <td>1</td>\n",
       "      <td>0</td>\n",
       "      <td>NaN</td>\n",
       "      <td>4181.23</td>\n",
       "      <td>351.0</td>\n",
       "    </tr>\n",
       "  </tbody>\n",
       "</table>\n",
       "<p>5 rows × 36 columns</p>\n",
       "</div>"
      ],
      "text/plain": [
       "                       npo_account_id  npo_accnts_nmbr  pmnts_type  year  \\\n",
       "1  0x30405A5ED70D134DBACEA479F4CA1E4A                1           2  2015   \n",
       "2  0x810C005056AB57EC11EBA287AC552DD7                2           1  2022   \n",
       "3  0x3225ED4DFFCD4042BB36FE353B42ACBD                1           2  2020   \n",
       "4  0x58998F4E17293D49953B9943F2B794E3                1           2  2012   \n",
       "5  0x6C27F78E74DD3E428A8121F0E7E747A0                2           1  2018   \n",
       "\n",
       "  quarter  gender  age  clnt_cprtn_time_d  actv_prd_d  lst_pmnt_rcnc_d  ...  \\\n",
       "1  2015Q4      -1   39               1191         244              947  ...   \n",
       "2  2022Q2       1   47                801         778               31  ...   \n",
       "3  2020Q4       1   48               7875           0             5844  ...   \n",
       "4  2012Q4       1   38               3452           0             2557  ...   \n",
       "5  2018Q2      -1   48                804         730               28  ...   \n",
       "\n",
       "   assignee_ops             region  citizen fact_addrss appl_mrkr  \\\n",
       "1            -1     МОСКОВСКАЯ ОБЛ        1          -1         0   \n",
       "2            -1    ВОЛОГОДСКАЯ ОБЛ        1           1         0   \n",
       "3            -1       ЛИПЕЦКАЯ ОБЛ        1           1         0   \n",
       "4            -1    ВОЛОГОДСКАЯ ОБЛ        1           1         0   \n",
       "5            -1  БАШКОРТОСТАН РЕСП       -1           1         0   \n",
       "\n",
       "   evry_qrtr_pmnt  churn  npo_sum_doxod  npo_sum_vsnos  accnt_pnsn_schm  \n",
       "1               0      0            NaN            NaN             62.0  \n",
       "2               1      0            NaN        4878.03             11.0  \n",
       "3               0      0          88.76            NaN            354.0  \n",
       "4               0      0         217.66            NaN              0.0  \n",
       "5               1      0            NaN        4181.23            351.0  \n",
       "\n",
       "[5 rows x 36 columns]"
      ]
     },
     "execution_count": 68,
     "metadata": {},
     "output_type": "execute_result"
    }
   ],
   "source": [
    "df.head()"
   ]
  },
  {
   "cell_type": "code",
   "execution_count": 69,
   "metadata": {},
   "outputs": [
    {
     "data": {
      "text/plain": [
       "(100000, 36)"
      ]
     },
     "execution_count": 69,
     "metadata": {},
     "output_type": "execute_result"
    }
   ],
   "source": [
    "df.shape"
   ]
  },
  {
   "cell_type": "code",
   "execution_count": 70,
   "metadata": {},
   "outputs": [],
   "source": [
    "df.to_csv('train_zip_new_data_merged_preprocessed.csv')"
   ]
  },
  {
   "cell_type": "code",
   "execution_count": 2,
   "metadata": {},
   "outputs": [],
   "source": [
    "df = pd.read_csv(\"train_zip_new_data_merged_preprocessed.csv\")\n",
    "df.drop('Unnamed: 0', axis=1, inplace=True)"
   ]
  },
  {
   "cell_type": "code",
   "execution_count": 3,
   "metadata": {},
   "outputs": [
    {
     "data": {
      "text/html": [
       "<div>\n",
       "<style scoped>\n",
       "    .dataframe tbody tr th:only-of-type {\n",
       "        vertical-align: middle;\n",
       "    }\n",
       "\n",
       "    .dataframe tbody tr th {\n",
       "        vertical-align: top;\n",
       "    }\n",
       "\n",
       "    .dataframe thead th {\n",
       "        text-align: right;\n",
       "    }\n",
       "</style>\n",
       "<table border=\"1\" class=\"dataframe\">\n",
       "  <thead>\n",
       "    <tr style=\"text-align: right;\">\n",
       "      <th></th>\n",
       "      <th>npo_account_id</th>\n",
       "      <th>npo_accnts_nmbr</th>\n",
       "      <th>pmnts_type</th>\n",
       "      <th>year</th>\n",
       "      <th>quarter</th>\n",
       "      <th>gender</th>\n",
       "      <th>age</th>\n",
       "      <th>clnt_cprtn_time_d</th>\n",
       "      <th>actv_prd_d</th>\n",
       "      <th>lst_pmnt_rcnc_d</th>\n",
       "      <th>...</th>\n",
       "      <th>assignee_ops</th>\n",
       "      <th>region</th>\n",
       "      <th>citizen</th>\n",
       "      <th>fact_addrss</th>\n",
       "      <th>appl_mrkr</th>\n",
       "      <th>evry_qrtr_pmnt</th>\n",
       "      <th>churn</th>\n",
       "      <th>npo_sum_doxod</th>\n",
       "      <th>npo_sum_vsnos</th>\n",
       "      <th>accnt_pnsn_schm</th>\n",
       "    </tr>\n",
       "  </thead>\n",
       "  <tbody>\n",
       "    <tr>\n",
       "      <th>0</th>\n",
       "      <td>0x30405A5ED70D134DBACEA479F4CA1E4A</td>\n",
       "      <td>1</td>\n",
       "      <td>2</td>\n",
       "      <td>2015</td>\n",
       "      <td>2015Q4</td>\n",
       "      <td>-1</td>\n",
       "      <td>39</td>\n",
       "      <td>1191</td>\n",
       "      <td>244</td>\n",
       "      <td>947</td>\n",
       "      <td>...</td>\n",
       "      <td>-1</td>\n",
       "      <td>МОСКОВСКАЯ ОБЛ</td>\n",
       "      <td>1</td>\n",
       "      <td>-1</td>\n",
       "      <td>0</td>\n",
       "      <td>0</td>\n",
       "      <td>0</td>\n",
       "      <td>NaN</td>\n",
       "      <td>NaN</td>\n",
       "      <td>62.0</td>\n",
       "    </tr>\n",
       "    <tr>\n",
       "      <th>1</th>\n",
       "      <td>0x810C005056AB57EC11EBA287AC552DD7</td>\n",
       "      <td>2</td>\n",
       "      <td>1</td>\n",
       "      <td>2022</td>\n",
       "      <td>2022Q2</td>\n",
       "      <td>1</td>\n",
       "      <td>47</td>\n",
       "      <td>801</td>\n",
       "      <td>778</td>\n",
       "      <td>31</td>\n",
       "      <td>...</td>\n",
       "      <td>-1</td>\n",
       "      <td>ВОЛОГОДСКАЯ ОБЛ</td>\n",
       "      <td>1</td>\n",
       "      <td>1</td>\n",
       "      <td>0</td>\n",
       "      <td>1</td>\n",
       "      <td>0</td>\n",
       "      <td>NaN</td>\n",
       "      <td>4878.03</td>\n",
       "      <td>11.0</td>\n",
       "    </tr>\n",
       "    <tr>\n",
       "      <th>2</th>\n",
       "      <td>0x3225ED4DFFCD4042BB36FE353B42ACBD</td>\n",
       "      <td>1</td>\n",
       "      <td>2</td>\n",
       "      <td>2020</td>\n",
       "      <td>2020Q4</td>\n",
       "      <td>1</td>\n",
       "      <td>48</td>\n",
       "      <td>7875</td>\n",
       "      <td>0</td>\n",
       "      <td>5844</td>\n",
       "      <td>...</td>\n",
       "      <td>-1</td>\n",
       "      <td>ЛИПЕЦКАЯ ОБЛ</td>\n",
       "      <td>1</td>\n",
       "      <td>1</td>\n",
       "      <td>0</td>\n",
       "      <td>0</td>\n",
       "      <td>0</td>\n",
       "      <td>88.76</td>\n",
       "      <td>NaN</td>\n",
       "      <td>354.0</td>\n",
       "    </tr>\n",
       "    <tr>\n",
       "      <th>3</th>\n",
       "      <td>0x58998F4E17293D49953B9943F2B794E3</td>\n",
       "      <td>1</td>\n",
       "      <td>2</td>\n",
       "      <td>2012</td>\n",
       "      <td>2012Q4</td>\n",
       "      <td>1</td>\n",
       "      <td>38</td>\n",
       "      <td>3452</td>\n",
       "      <td>0</td>\n",
       "      <td>2557</td>\n",
       "      <td>...</td>\n",
       "      <td>-1</td>\n",
       "      <td>ВОЛОГОДСКАЯ ОБЛ</td>\n",
       "      <td>1</td>\n",
       "      <td>1</td>\n",
       "      <td>0</td>\n",
       "      <td>0</td>\n",
       "      <td>0</td>\n",
       "      <td>217.66</td>\n",
       "      <td>NaN</td>\n",
       "      <td>0.0</td>\n",
       "    </tr>\n",
       "    <tr>\n",
       "      <th>4</th>\n",
       "      <td>0x6C27F78E74DD3E428A8121F0E7E747A0</td>\n",
       "      <td>2</td>\n",
       "      <td>1</td>\n",
       "      <td>2018</td>\n",
       "      <td>2018Q2</td>\n",
       "      <td>-1</td>\n",
       "      <td>48</td>\n",
       "      <td>804</td>\n",
       "      <td>730</td>\n",
       "      <td>28</td>\n",
       "      <td>...</td>\n",
       "      <td>-1</td>\n",
       "      <td>БАШКОРТОСТАН РЕСП</td>\n",
       "      <td>-1</td>\n",
       "      <td>1</td>\n",
       "      <td>0</td>\n",
       "      <td>1</td>\n",
       "      <td>0</td>\n",
       "      <td>NaN</td>\n",
       "      <td>4181.23</td>\n",
       "      <td>351.0</td>\n",
       "    </tr>\n",
       "  </tbody>\n",
       "</table>\n",
       "<p>5 rows × 36 columns</p>\n",
       "</div>"
      ],
      "text/plain": [
       "                       npo_account_id  npo_accnts_nmbr  pmnts_type  year  \\\n",
       "0  0x30405A5ED70D134DBACEA479F4CA1E4A                1           2  2015   \n",
       "1  0x810C005056AB57EC11EBA287AC552DD7                2           1  2022   \n",
       "2  0x3225ED4DFFCD4042BB36FE353B42ACBD                1           2  2020   \n",
       "3  0x58998F4E17293D49953B9943F2B794E3                1           2  2012   \n",
       "4  0x6C27F78E74DD3E428A8121F0E7E747A0                2           1  2018   \n",
       "\n",
       "  quarter  gender  age  clnt_cprtn_time_d  actv_prd_d  lst_pmnt_rcnc_d  ...  \\\n",
       "0  2015Q4      -1   39               1191         244              947  ...   \n",
       "1  2022Q2       1   47                801         778               31  ...   \n",
       "2  2020Q4       1   48               7875           0             5844  ...   \n",
       "3  2012Q4       1   38               3452           0             2557  ...   \n",
       "4  2018Q2      -1   48                804         730               28  ...   \n",
       "\n",
       "   assignee_ops             region  citizen fact_addrss appl_mrkr  \\\n",
       "0            -1     МОСКОВСКАЯ ОБЛ        1          -1         0   \n",
       "1            -1    ВОЛОГОДСКАЯ ОБЛ        1           1         0   \n",
       "2            -1       ЛИПЕЦКАЯ ОБЛ        1           1         0   \n",
       "3            -1    ВОЛОГОДСКАЯ ОБЛ        1           1         0   \n",
       "4            -1  БАШКОРТОСТАН РЕСП       -1           1         0   \n",
       "\n",
       "   evry_qrtr_pmnt  churn  npo_sum_doxod  npo_sum_vsnos  accnt_pnsn_schm  \n",
       "0               0      0            NaN            NaN             62.0  \n",
       "1               1      0            NaN        4878.03             11.0  \n",
       "2               0      0          88.76            NaN            354.0  \n",
       "3               0      0         217.66            NaN              0.0  \n",
       "4               1      0            NaN        4181.23            351.0  \n",
       "\n",
       "[5 rows x 36 columns]"
      ]
     },
     "execution_count": 3,
     "metadata": {},
     "output_type": "execute_result"
    }
   ],
   "source": [
    "df.head()"
   ]
  },
  {
   "cell_type": "code",
   "execution_count": 8,
   "metadata": {},
   "outputs": [
    {
     "data": {
      "text/plain": [
       "npo_account_id            0\n",
       "npo_accnts_nmbr           0\n",
       "pmnts_type                0\n",
       "year                      0\n",
       "quarter                   0\n",
       "gender                    0\n",
       "age                       0\n",
       "clnt_cprtn_time_d         0\n",
       "actv_prd_d                0\n",
       "lst_pmnt_rcnc_d           0\n",
       "balance                   0\n",
       "oprtn_sum_per_qrtr        0\n",
       "oprtn_sum_per_year        0\n",
       "frst_pmnt_date            0\n",
       "lst_pmnt_date_per_qrtr    0\n",
       "frst_pmnt                 0\n",
       "pmnts_nmbr                0\n",
       "pmnts_nmbr_per_qrtr       0\n",
       "incm_sum                  0\n",
       "incm_per_qrtr             0\n",
       "incm_per_year             0\n",
       "mgd_payment_period        0\n",
       "phone_number              0\n",
       "email                     0\n",
       "lk                        0\n",
       "assignee_npo              0\n",
       "assignee_ops              0\n",
       "region                    0\n",
       "citizen                   0\n",
       "fact_addrss               0\n",
       "appl_mrkr                 0\n",
       "evry_qrtr_pmnt            0\n",
       "churn                     0\n",
       "npo_sum_doxod             0\n",
       "npo_sum_vsnos             0\n",
       "accnt_pnsn_schm           0\n",
       "dtype: int64"
      ]
     },
     "execution_count": 8,
     "metadata": {},
     "output_type": "execute_result"
    }
   ],
   "source": [
    "df.isna().sum()"
   ]
  },
  {
   "cell_type": "code",
   "execution_count": 5,
   "metadata": {},
   "outputs": [
    {
     "data": {
      "text/plain": [
       "count    6.771700e+04\n",
       "mean     6.624997e+03\n",
       "std      7.412754e+04\n",
       "min     -2.119900e+02\n",
       "25%      7.317000e+02\n",
       "50%      2.657310e+03\n",
       "75%      7.076060e+03\n",
       "max      1.811505e+07\n",
       "Name: npo_sum_vsnos, dtype: float64"
      ]
     },
     "execution_count": 5,
     "metadata": {},
     "output_type": "execute_result"
    }
   ],
   "source": [
    "df.npo_sum_vsnos.describe()"
   ]
  },
  {
   "cell_type": "code",
   "execution_count": 6,
   "metadata": {},
   "outputs": [],
   "source": [
    "df.npo_sum_vsnos = df.npo_sum_vsnos.fillna(0.0)"
   ]
  },
  {
   "cell_type": "code",
   "execution_count": 7,
   "metadata": {},
   "outputs": [],
   "source": [
    "df.npo_sum_doxod = df.npo_sum_doxod.fillna(0.0)"
   ]
  },
  {
   "cell_type": "code",
   "execution_count": 11,
   "metadata": {},
   "outputs": [
    {
     "data": {
      "text/plain": [
       "(100000, 36)"
      ]
     },
     "execution_count": 11,
     "metadata": {},
     "output_type": "execute_result"
    }
   ],
   "source": [
    "df.drop('npo_sum_vsnos', axis=1, inplace=True)"
   ]
  },
  {
   "cell_type": "code",
   "execution_count": 34,
   "metadata": {},
   "outputs": [],
   "source": [
    "zp = pd.read_csv('zp.csv', sep=';')"
   ]
  },
  {
   "cell_type": "code",
   "execution_count": 38,
   "metadata": {},
   "outputs": [
    {
     "data": {
      "text/html": [
       "<div>\n",
       "<style scoped>\n",
       "    .dataframe tbody tr th:only-of-type {\n",
       "        vertical-align: middle;\n",
       "    }\n",
       "\n",
       "    .dataframe tbody tr th {\n",
       "        vertical-align: top;\n",
       "    }\n",
       "\n",
       "    .dataframe thead th {\n",
       "        text-align: right;\n",
       "    }\n",
       "</style>\n",
       "<table border=\"1\" class=\"dataframe\">\n",
       "  <thead>\n",
       "    <tr style=\"text-align: right;\">\n",
       "      <th></th>\n",
       "      <th>Q1</th>\n",
       "      <th>Q2</th>\n",
       "      <th>Q3</th>\n",
       "      <th>Q4</th>\n",
       "    </tr>\n",
       "    <tr>\n",
       "      <th>year</th>\n",
       "      <th></th>\n",
       "      <th></th>\n",
       "      <th></th>\n",
       "      <th></th>\n",
       "    </tr>\n",
       "  </thead>\n",
       "  <tbody>\n",
       "    <tr>\n",
       "      <th>1993</th>\n",
       "      <td>19.4</td>\n",
       "      <td>38.5</td>\n",
       "      <td>67.4</td>\n",
       "      <td>109.5</td>\n",
       "    </tr>\n",
       "    <tr>\n",
       "      <th>1994</th>\n",
       "      <td>148.1</td>\n",
       "      <td>187.5</td>\n",
       "      <td>232.3</td>\n",
       "      <td>298.6</td>\n",
       "    </tr>\n",
       "    <tr>\n",
       "      <th>1995</th>\n",
       "      <td>328.2</td>\n",
       "      <td>432.2</td>\n",
       "      <td>528.3</td>\n",
       "      <td>643.2</td>\n",
       "    </tr>\n",
       "    <tr>\n",
       "      <th>1996</th>\n",
       "      <td>695.3</td>\n",
       "      <td>789.7</td>\n",
       "      <td>838.3</td>\n",
       "      <td>903.8</td>\n",
       "    </tr>\n",
       "    <tr>\n",
       "      <th>1997</th>\n",
       "      <td>844.0</td>\n",
       "      <td>941.0</td>\n",
       "      <td>1001.0</td>\n",
       "      <td>1074.0</td>\n",
       "    </tr>\n",
       "  </tbody>\n",
       "</table>\n",
       "</div>"
      ],
      "text/plain": [
       "         Q1     Q2      Q3      Q4\n",
       "year                              \n",
       "1993   19.4   38.5    67.4   109.5\n",
       "1994  148.1  187.5   232.3   298.6\n",
       "1995  328.2  432.2   528.3   643.2\n",
       "1996  695.3  789.7   838.3   903.8\n",
       "1997  844.0  941.0  1001.0  1074.0"
      ]
     },
     "execution_count": 38,
     "metadata": {},
     "output_type": "execute_result"
    }
   ],
   "source": [
    "zp.head()"
   ]
  },
  {
   "cell_type": "code",
   "execution_count": 36,
   "metadata": {},
   "outputs": [],
   "source": [
    "zp = zp.set_index(zp.year)"
   ]
  },
  {
   "cell_type": "code",
   "execution_count": 37,
   "metadata": {},
   "outputs": [],
   "source": [
    "zp.drop('year', axis=1, inplace=True)"
   ]
  },
  {
   "cell_type": "code",
   "execution_count": 40,
   "metadata": {},
   "outputs": [],
   "source": [
    "zp = pd.DataFrame(zp.stack().reset_index())"
   ]
  },
  {
   "cell_type": "code",
   "execution_count": 69,
   "metadata": {},
   "outputs": [
    {
     "data": {
      "text/html": [
       "<div>\n",
       "<style scoped>\n",
       "    .dataframe tbody tr th:only-of-type {\n",
       "        vertical-align: middle;\n",
       "    }\n",
       "\n",
       "    .dataframe tbody tr th {\n",
       "        vertical-align: top;\n",
       "    }\n",
       "\n",
       "    .dataframe thead th {\n",
       "        text-align: right;\n",
       "    }\n",
       "</style>\n",
       "<table border=\"1\" class=\"dataframe\">\n",
       "  <thead>\n",
       "    <tr style=\"text-align: right;\">\n",
       "      <th></th>\n",
       "      <th>zp</th>\n",
       "      <th>quarter</th>\n",
       "    </tr>\n",
       "  </thead>\n",
       "  <tbody>\n",
       "    <tr>\n",
       "      <th>0</th>\n",
       "      <td>19.4</td>\n",
       "      <td>1993Q1</td>\n",
       "    </tr>\n",
       "    <tr>\n",
       "      <th>1</th>\n",
       "      <td>38.5</td>\n",
       "      <td>1993Q2</td>\n",
       "    </tr>\n",
       "    <tr>\n",
       "      <th>2</th>\n",
       "      <td>67.4</td>\n",
       "      <td>1993Q3</td>\n",
       "    </tr>\n",
       "    <tr>\n",
       "      <th>3</th>\n",
       "      <td>109.5</td>\n",
       "      <td>1993Q4</td>\n",
       "    </tr>\n",
       "    <tr>\n",
       "      <th>4</th>\n",
       "      <td>148.1</td>\n",
       "      <td>1994Q1</td>\n",
       "    </tr>\n",
       "  </tbody>\n",
       "</table>\n",
       "</div>"
      ],
      "text/plain": [
       "      zp quarter\n",
       "0   19.4  1993Q1\n",
       "1   38.5  1993Q2\n",
       "2   67.4  1993Q3\n",
       "3  109.5  1993Q4\n",
       "4  148.1  1994Q1"
      ]
     },
     "execution_count": 69,
     "metadata": {},
     "output_type": "execute_result"
    }
   ],
   "source": [
    "zp.head()"
   ]
  },
  {
   "cell_type": "code",
   "execution_count": 44,
   "metadata": {},
   "outputs": [],
   "source": [
    "zp.year = zp.year.astype('str')"
   ]
  },
  {
   "cell_type": "code",
   "execution_count": 65,
   "metadata": {},
   "outputs": [
    {
     "data": {
      "text/plain": [
       "0          float64\n",
       "quarter     object\n",
       "dtype: object"
      ]
     },
     "execution_count": 65,
     "metadata": {},
     "output_type": "execute_result"
    }
   ],
   "source": [
    "zp.dtypes"
   ]
  },
  {
   "cell_type": "code",
   "execution_count": 46,
   "metadata": {},
   "outputs": [],
   "source": [
    "zp['quarter'] = zp.year + zp.level_1"
   ]
  },
  {
   "cell_type": "code",
   "execution_count": 49,
   "metadata": {},
   "outputs": [],
   "source": [
    "zp.drop(['year', 'level_1'], axis=1, inplace=True)"
   ]
  },
  {
   "cell_type": "code",
   "execution_count": 67,
   "metadata": {},
   "outputs": [],
   "source": [
    "zp = zp.rename(columns=({0 : 'zp'}))"
   ]
  },
  {
   "cell_type": "code",
   "execution_count": 70,
   "metadata": {},
   "outputs": [],
   "source": [
    "df = df.merge(zp, how='left', on='quarter')"
   ]
  },
  {
   "cell_type": "code",
   "execution_count": 151,
   "metadata": {},
   "outputs": [
    {
     "data": {
      "text/html": [
       "<div>\n",
       "<style scoped>\n",
       "    .dataframe tbody tr th:only-of-type {\n",
       "        vertical-align: middle;\n",
       "    }\n",
       "\n",
       "    .dataframe tbody tr th {\n",
       "        vertical-align: top;\n",
       "    }\n",
       "\n",
       "    .dataframe thead th {\n",
       "        text-align: right;\n",
       "    }\n",
       "</style>\n",
       "<table border=\"1\" class=\"dataframe\">\n",
       "  <thead>\n",
       "    <tr style=\"text-align: right;\">\n",
       "      <th></th>\n",
       "      <th>npo_account_id</th>\n",
       "      <th>npo_accnts_nmbr</th>\n",
       "      <th>pmnts_type</th>\n",
       "      <th>year</th>\n",
       "      <th>quarter</th>\n",
       "      <th>gender</th>\n",
       "      <th>age</th>\n",
       "      <th>clnt_cprtn_time_d</th>\n",
       "      <th>actv_prd_d</th>\n",
       "      <th>lst_pmnt_rcnc_d</th>\n",
       "      <th>...</th>\n",
       "      <th>evry_qrtr_pmnt</th>\n",
       "      <th>churn</th>\n",
       "      <th>npo_sum_doxod</th>\n",
       "      <th>npo_sum_vsnos</th>\n",
       "      <th>accnt_pnsn_schm</th>\n",
       "      <th>zp</th>\n",
       "      <th>house_price</th>\n",
       "      <th>bezrabotica</th>\n",
       "      <th>potreb_price_x</th>\n",
       "      <th>inflycia</th>\n",
       "    </tr>\n",
       "  </thead>\n",
       "  <tbody>\n",
       "    <tr>\n",
       "      <th>0</th>\n",
       "      <td>0x30405A5ED70D134DBACEA479F4CA1E4A</td>\n",
       "      <td>1</td>\n",
       "      <td>2</td>\n",
       "      <td>2015</td>\n",
       "      <td>2015Q4</td>\n",
       "      <td>-1</td>\n",
       "      <td>39</td>\n",
       "      <td>1191</td>\n",
       "      <td>244</td>\n",
       "      <td>947</td>\n",
       "      <td>...</td>\n",
       "      <td>0</td>\n",
       "      <td>0</td>\n",
       "      <td>0.00</td>\n",
       "      <td>0.00</td>\n",
       "      <td>62.0</td>\n",
       "      <td>36692.0</td>\n",
       "      <td>99.7</td>\n",
       "      <td>5.60</td>\n",
       "      <td>100.69</td>\n",
       "      <td>15.416667</td>\n",
       "    </tr>\n",
       "    <tr>\n",
       "      <th>1</th>\n",
       "      <td>0x810C005056AB57EC11EBA287AC552DD7</td>\n",
       "      <td>2</td>\n",
       "      <td>1</td>\n",
       "      <td>2022</td>\n",
       "      <td>2022Q2</td>\n",
       "      <td>1</td>\n",
       "      <td>47</td>\n",
       "      <td>801</td>\n",
       "      <td>778</td>\n",
       "      <td>31</td>\n",
       "      <td>...</td>\n",
       "      <td>1</td>\n",
       "      <td>0</td>\n",
       "      <td>0.00</td>\n",
       "      <td>4878.03</td>\n",
       "      <td>11.0</td>\n",
       "      <td>63784.0</td>\n",
       "      <td>121.0</td>\n",
       "      <td>3.90</td>\n",
       "      <td>103.10</td>\n",
       "      <td>17.213333</td>\n",
       "    </tr>\n",
       "    <tr>\n",
       "      <th>2</th>\n",
       "      <td>0x3225ED4DFFCD4042BB36FE353B42ACBD</td>\n",
       "      <td>1</td>\n",
       "      <td>2</td>\n",
       "      <td>2020</td>\n",
       "      <td>2020Q4</td>\n",
       "      <td>1</td>\n",
       "      <td>48</td>\n",
       "      <td>7875</td>\n",
       "      <td>0</td>\n",
       "      <td>5844</td>\n",
       "      <td>...</td>\n",
       "      <td>0</td>\n",
       "      <td>0</td>\n",
       "      <td>88.76</td>\n",
       "      <td>0.00</td>\n",
       "      <td>354.0</td>\n",
       "      <td>56044.0</td>\n",
       "      <td>112.0</td>\n",
       "      <td>5.80</td>\n",
       "      <td>100.36</td>\n",
       "      <td>4.023333</td>\n",
       "    </tr>\n",
       "    <tr>\n",
       "      <th>3</th>\n",
       "      <td>0x58998F4E17293D49953B9943F2B794E3</td>\n",
       "      <td>1</td>\n",
       "      <td>2</td>\n",
       "      <td>2012</td>\n",
       "      <td>2012Q4</td>\n",
       "      <td>1</td>\n",
       "      <td>38</td>\n",
       "      <td>3452</td>\n",
       "      <td>0</td>\n",
       "      <td>2557</td>\n",
       "      <td>...</td>\n",
       "      <td>0</td>\n",
       "      <td>0</td>\n",
       "      <td>217.66</td>\n",
       "      <td>0.00</td>\n",
       "      <td>0.0</td>\n",
       "      <td>30233.0</td>\n",
       "      <td>110.7</td>\n",
       "      <td>5.50</td>\n",
       "      <td>100.45</td>\n",
       "      <td>6.533333</td>\n",
       "    </tr>\n",
       "    <tr>\n",
       "      <th>4</th>\n",
       "      <td>0x6C27F78E74DD3E428A8121F0E7E747A0</td>\n",
       "      <td>2</td>\n",
       "      <td>1</td>\n",
       "      <td>2018</td>\n",
       "      <td>2018Q2</td>\n",
       "      <td>-1</td>\n",
       "      <td>48</td>\n",
       "      <td>804</td>\n",
       "      <td>730</td>\n",
       "      <td>28</td>\n",
       "      <td>...</td>\n",
       "      <td>1</td>\n",
       "      <td>0</td>\n",
       "      <td>0.00</td>\n",
       "      <td>4181.23</td>\n",
       "      <td>351.0</td>\n",
       "      <td>44477.0</td>\n",
       "      <td>106.3</td>\n",
       "      <td>4.80</td>\n",
       "      <td>100.35</td>\n",
       "      <td>2.396667</td>\n",
       "    </tr>\n",
       "  </tbody>\n",
       "</table>\n",
       "<p>5 rows × 41 columns</p>\n",
       "</div>"
      ],
      "text/plain": [
       "                       npo_account_id  npo_accnts_nmbr  pmnts_type  year  \\\n",
       "0  0x30405A5ED70D134DBACEA479F4CA1E4A                1           2  2015   \n",
       "1  0x810C005056AB57EC11EBA287AC552DD7                2           1  2022   \n",
       "2  0x3225ED4DFFCD4042BB36FE353B42ACBD                1           2  2020   \n",
       "3  0x58998F4E17293D49953B9943F2B794E3                1           2  2012   \n",
       "4  0x6C27F78E74DD3E428A8121F0E7E747A0                2           1  2018   \n",
       "\n",
       "  quarter  gender  age  clnt_cprtn_time_d  actv_prd_d  lst_pmnt_rcnc_d  ...  \\\n",
       "0  2015Q4      -1   39               1191         244              947  ...   \n",
       "1  2022Q2       1   47                801         778               31  ...   \n",
       "2  2020Q4       1   48               7875           0             5844  ...   \n",
       "3  2012Q4       1   38               3452           0             2557  ...   \n",
       "4  2018Q2      -1   48                804         730               28  ...   \n",
       "\n",
       "   evry_qrtr_pmnt  churn  npo_sum_doxod npo_sum_vsnos accnt_pnsn_schm  \\\n",
       "0               0      0           0.00          0.00            62.0   \n",
       "1               1      0           0.00       4878.03            11.0   \n",
       "2               0      0          88.76          0.00           354.0   \n",
       "3               0      0         217.66          0.00             0.0   \n",
       "4               1      0           0.00       4181.23           351.0   \n",
       "\n",
       "        zp  house_price  bezrabotica  potreb_price_x   inflycia  \n",
       "0  36692.0         99.7        5.60           100.69  15.416667  \n",
       "1  63784.0        121.0        3.90           103.10  17.213333  \n",
       "2  56044.0        112.0        5.80           100.36   4.023333  \n",
       "3  30233.0        110.7        5.50           100.45   6.533333  \n",
       "4  44477.0        106.3        4.80           100.35   2.396667  \n",
       "\n",
       "[5 rows x 41 columns]"
      ]
     },
     "execution_count": 151,
     "metadata": {},
     "output_type": "execute_result"
    }
   ],
   "source": [
    "df.head()"
   ]
  },
  {
   "cell_type": "code",
   "execution_count": 122,
   "metadata": {},
   "outputs": [],
   "source": [
    "df.drop(['potreb_price_y'], axis=1, inplace=True)"
   ]
  },
  {
   "cell_type": "code",
   "execution_count": 152,
   "metadata": {},
   "outputs": [
    {
     "data": {
      "text/plain": [
       "(100000, 41)"
      ]
     },
     "execution_count": 152,
     "metadata": {},
     "output_type": "execute_result"
    }
   ],
   "source": [
    "df.shape"
   ]
  },
  {
   "cell_type": "code",
   "execution_count": 9,
   "metadata": {},
   "outputs": [],
   "source": [
    "def get_redundant_pairs(df):\n",
    "    pairs_to_drop = set()\n",
    "    cols = df.columns\n",
    "    for i in range(0, df.shape[1]):\n",
    "        for j in range(0, i+1):\n",
    "            pairs_to_drop.add((cols[i], cols[j]))\n",
    "    return pairs_to_drop\n",
    "\n",
    "def get_top_abs_correlations(df, n=5):\n",
    "    au_corr = df.corr().abs().unstack()\n",
    "    labels_to_drop = get_redundant_pairs(df)\n",
    "    au_corr = au_corr.drop(labels=labels_to_drop).sort_values(ascending=False)\n",
    "    return au_corr[0:n]\n"
   ]
  },
  {
   "cell_type": "code",
   "execution_count": 75,
   "metadata": {},
   "outputs": [],
   "source": [
    "house = pd.read_csv('house.csv', sep=';')"
   ]
  },
  {
   "cell_type": "code",
   "execution_count": 76,
   "metadata": {},
   "outputs": [
    {
     "data": {
      "text/html": [
       "<div>\n",
       "<style scoped>\n",
       "    .dataframe tbody tr th:only-of-type {\n",
       "        vertical-align: middle;\n",
       "    }\n",
       "\n",
       "    .dataframe tbody tr th {\n",
       "        vertical-align: top;\n",
       "    }\n",
       "\n",
       "    .dataframe thead th {\n",
       "        text-align: right;\n",
       "    }\n",
       "</style>\n",
       "<table border=\"1\" class=\"dataframe\">\n",
       "  <thead>\n",
       "    <tr style=\"text-align: right;\">\n",
       "      <th></th>\n",
       "      <th>year</th>\n",
       "      <th>house_price</th>\n",
       "    </tr>\n",
       "  </thead>\n",
       "  <tbody>\n",
       "    <tr>\n",
       "      <th>0</th>\n",
       "      <td>1998</td>\n",
       "      <td>156.9</td>\n",
       "    </tr>\n",
       "    <tr>\n",
       "      <th>1</th>\n",
       "      <td>1999</td>\n",
       "      <td>146.3</td>\n",
       "    </tr>\n",
       "    <tr>\n",
       "      <th>2</th>\n",
       "      <td>2000</td>\n",
       "      <td>113.1</td>\n",
       "    </tr>\n",
       "    <tr>\n",
       "      <th>3</th>\n",
       "      <td>2001</td>\n",
       "      <td>125.1</td>\n",
       "    </tr>\n",
       "    <tr>\n",
       "      <th>4</th>\n",
       "      <td>2002</td>\n",
       "      <td>122.5</td>\n",
       "    </tr>\n",
       "  </tbody>\n",
       "</table>\n",
       "</div>"
      ],
      "text/plain": [
       "   year  house_price\n",
       "0  1998        156.9\n",
       "1  1999        146.3\n",
       "2  2000        113.1\n",
       "3  2001        125.1\n",
       "4  2002        122.5"
      ]
     },
     "execution_count": 76,
     "metadata": {},
     "output_type": "execute_result"
    }
   ],
   "source": [
    "house.head()"
   ]
  },
  {
   "cell_type": "code",
   "execution_count": 77,
   "metadata": {},
   "outputs": [],
   "source": [
    "df = df.merge(house, how='left', on='year')"
   ]
  },
  {
   "cell_type": "code",
   "execution_count": 137,
   "metadata": {},
   "outputs": [],
   "source": [
    "inflycia = pd.read_csv('inflycia.csv', sep=';')"
   ]
  },
  {
   "cell_type": "code",
   "execution_count": 138,
   "metadata": {},
   "outputs": [
    {
     "data": {
      "text/html": [
       "<div>\n",
       "<style scoped>\n",
       "    .dataframe tbody tr th:only-of-type {\n",
       "        vertical-align: middle;\n",
       "    }\n",
       "\n",
       "    .dataframe tbody tr th {\n",
       "        vertical-align: top;\n",
       "    }\n",
       "\n",
       "    .dataframe thead th {\n",
       "        text-align: right;\n",
       "    }\n",
       "</style>\n",
       "<table border=\"1\" class=\"dataframe\">\n",
       "  <thead>\n",
       "    <tr style=\"text-align: right;\">\n",
       "      <th></th>\n",
       "      <th>year</th>\n",
       "      <th>Q1</th>\n",
       "      <th>Q2</th>\n",
       "      <th>Q3</th>\n",
       "      <th>Q4</th>\n",
       "    </tr>\n",
       "  </thead>\n",
       "  <tbody>\n",
       "    <tr>\n",
       "      <th>0</th>\n",
       "      <td>2023</td>\n",
       "      <td>45422.000000</td>\n",
       "      <td>28157.000000</td>\n",
       "      <td>4.223333</td>\n",
       "      <td>6.716667</td>\n",
       "    </tr>\n",
       "    <tr>\n",
       "      <th>1</th>\n",
       "      <td>2022</td>\n",
       "      <td>34578.000000</td>\n",
       "      <td>17.213333</td>\n",
       "      <td>15.096667</td>\n",
       "      <td>12.756667</td>\n",
       "    </tr>\n",
       "    <tr>\n",
       "      <th>2</th>\n",
       "      <td>2021</td>\n",
       "      <td>6.416667</td>\n",
       "      <td>28246.000000</td>\n",
       "      <td>6.556667</td>\n",
       "      <td>7.983333</td>\n",
       "    </tr>\n",
       "    <tr>\n",
       "      <th>3</th>\n",
       "      <td>2020</td>\n",
       "      <td>3.213333</td>\n",
       "      <td>2.893333</td>\n",
       "      <td>3.383333</td>\n",
       "      <td>4.023333</td>\n",
       "    </tr>\n",
       "    <tr>\n",
       "      <th>4</th>\n",
       "      <td>2019</td>\n",
       "      <td>15797.000000</td>\n",
       "      <td>43586.000000</td>\n",
       "      <td>4.526667</td>\n",
       "      <td>3.766667</td>\n",
       "    </tr>\n",
       "  </tbody>\n",
       "</table>\n",
       "</div>"
      ],
      "text/plain": [
       "   year            Q1            Q2         Q3         Q4\n",
       "0  2023  45422.000000  28157.000000   4.223333   6.716667\n",
       "1  2022  34578.000000     17.213333  15.096667  12.756667\n",
       "2  2021      6.416667  28246.000000   6.556667   7.983333\n",
       "3  2020      3.213333      2.893333   3.383333   4.023333\n",
       "4  2019  15797.000000  43586.000000   4.526667   3.766667"
      ]
     },
     "execution_count": 138,
     "metadata": {},
     "output_type": "execute_result"
    }
   ],
   "source": [
    "inflycia.head()"
   ]
  },
  {
   "cell_type": "code",
   "execution_count": 83,
   "metadata": {},
   "outputs": [],
   "source": [
    "bezrabotica = pd.read_csv('bezrabotica.csv', sep=';')"
   ]
  },
  {
   "cell_type": "code",
   "execution_count": 84,
   "metadata": {},
   "outputs": [
    {
     "data": {
      "text/html": [
       "<div>\n",
       "<style scoped>\n",
       "    .dataframe tbody tr th:only-of-type {\n",
       "        vertical-align: middle;\n",
       "    }\n",
       "\n",
       "    .dataframe tbody tr th {\n",
       "        vertical-align: top;\n",
       "    }\n",
       "\n",
       "    .dataframe thead th {\n",
       "        text-align: right;\n",
       "    }\n",
       "</style>\n",
       "<table border=\"1\" class=\"dataframe\">\n",
       "  <thead>\n",
       "    <tr style=\"text-align: right;\">\n",
       "      <th></th>\n",
       "      <th>year</th>\n",
       "      <th>bezrabotica</th>\n",
       "    </tr>\n",
       "  </thead>\n",
       "  <tbody>\n",
       "    <tr>\n",
       "      <th>0</th>\n",
       "      <td>2000</td>\n",
       "      <td>10.60</td>\n",
       "    </tr>\n",
       "    <tr>\n",
       "      <th>1</th>\n",
       "      <td>2001</td>\n",
       "      <td>9.00</td>\n",
       "    </tr>\n",
       "    <tr>\n",
       "      <th>2</th>\n",
       "      <td>2002</td>\n",
       "      <td>7.90</td>\n",
       "    </tr>\n",
       "    <tr>\n",
       "      <th>3</th>\n",
       "      <td>2003</td>\n",
       "      <td>8.20</td>\n",
       "    </tr>\n",
       "    <tr>\n",
       "      <th>4</th>\n",
       "      <td>2004</td>\n",
       "      <td>7.80</td>\n",
       "    </tr>\n",
       "  </tbody>\n",
       "</table>\n",
       "</div>"
      ],
      "text/plain": [
       "   year bezrabotica\n",
       "0  2000      10.60 \n",
       "1  2001        9.00\n",
       "2  2002       7.90 \n",
       "3  2003       8.20 \n",
       "4  2004       7.80 "
      ]
     },
     "execution_count": 84,
     "metadata": {},
     "output_type": "execute_result"
    }
   ],
   "source": [
    "bezrabotica.head()"
   ]
  },
  {
   "cell_type": "code",
   "execution_count": 85,
   "metadata": {},
   "outputs": [],
   "source": [
    "df = df.merge(bezrabotica, how='left', on='year')"
   ]
  },
  {
   "cell_type": "code",
   "execution_count": 89,
   "metadata": {},
   "outputs": [],
   "source": [
    "df.bezrabotica = df.bezrabotica.fillna(20.00)"
   ]
  },
  {
   "cell_type": "code",
   "execution_count": 91,
   "metadata": {},
   "outputs": [],
   "source": [
    "df.house_price = df.house_price.fillna(170.00)"
   ]
  },
  {
   "cell_type": "code",
   "execution_count": 163,
   "metadata": {},
   "outputs": [
    {
     "data": {
      "text/plain": [
       "npo_account_id            0\n",
       "npo_accnts_nmbr           0\n",
       "pmnts_type                0\n",
       "year                      0\n",
       "quarter                   0\n",
       "gender                    0\n",
       "age                       0\n",
       "clnt_cprtn_time_d         0\n",
       "lst_pmnt_rcnc_d           0\n",
       "oprtn_sum_per_qrtr        0\n",
       "oprtn_sum_per_year        0\n",
       "frst_pmnt_date            0\n",
       "lst_pmnt_date_per_qrtr    0\n",
       "pmnts_nmbr                0\n",
       "pmnts_nmbr_per_qrtr       0\n",
       "incm_sum                  0\n",
       "incm_per_qrtr             0\n",
       "incm_per_year             0\n",
       "mgd_payment_period        0\n",
       "phone_number              0\n",
       "email                     0\n",
       "lk                        0\n",
       "assignee_npo              0\n",
       "assignee_ops              0\n",
       "region                    0\n",
       "citizen                   0\n",
       "fact_addrss               0\n",
       "appl_mrkr                 0\n",
       "evry_qrtr_pmnt            0\n",
       "churn                     0\n",
       "npo_sum_doxod             0\n",
       "accnt_pnsn_schm           0\n",
       "house_price               0\n",
       "bezrabotica               0\n",
       "potreb_price_x            0\n",
       "inflycia                  0\n",
       "dtype: int64"
      ]
     },
     "execution_count": 163,
     "metadata": {},
     "output_type": "execute_result"
    }
   ],
   "source": [
    "df.isna().sum()"
   ]
  },
  {
   "cell_type": "code",
   "execution_count": 139,
   "metadata": {},
   "outputs": [],
   "source": [
    "inflycia = inflycia.set_index('year')"
   ]
  },
  {
   "cell_type": "code",
   "execution_count": 149,
   "metadata": {},
   "outputs": [
    {
     "data": {
      "text/html": [
       "<div>\n",
       "<style scoped>\n",
       "    .dataframe tbody tr th:only-of-type {\n",
       "        vertical-align: middle;\n",
       "    }\n",
       "\n",
       "    .dataframe tbody tr th {\n",
       "        vertical-align: top;\n",
       "    }\n",
       "\n",
       "    .dataframe thead th {\n",
       "        text-align: right;\n",
       "    }\n",
       "</style>\n",
       "<table border=\"1\" class=\"dataframe\">\n",
       "  <thead>\n",
       "    <tr style=\"text-align: right;\">\n",
       "      <th></th>\n",
       "      <th>inflycia</th>\n",
       "      <th>quarter</th>\n",
       "    </tr>\n",
       "  </thead>\n",
       "  <tbody>\n",
       "    <tr>\n",
       "      <th>0</th>\n",
       "      <td>45422.000000</td>\n",
       "      <td>2023Q1</td>\n",
       "    </tr>\n",
       "    <tr>\n",
       "      <th>1</th>\n",
       "      <td>28157.000000</td>\n",
       "      <td>2023Q2</td>\n",
       "    </tr>\n",
       "    <tr>\n",
       "      <th>2</th>\n",
       "      <td>4.223333</td>\n",
       "      <td>2023Q3</td>\n",
       "    </tr>\n",
       "    <tr>\n",
       "      <th>3</th>\n",
       "      <td>6.716667</td>\n",
       "      <td>2023Q4</td>\n",
       "    </tr>\n",
       "    <tr>\n",
       "      <th>4</th>\n",
       "      <td>34578.000000</td>\n",
       "      <td>2022Q1</td>\n",
       "    </tr>\n",
       "  </tbody>\n",
       "</table>\n",
       "</div>"
      ],
      "text/plain": [
       "       inflycia quarter\n",
       "0  45422.000000  2023Q1\n",
       "1  28157.000000  2023Q2\n",
       "2      4.223333  2023Q3\n",
       "3      6.716667  2023Q4\n",
       "4  34578.000000  2022Q1"
      ]
     },
     "execution_count": 149,
     "metadata": {},
     "output_type": "execute_result"
    }
   ],
   "source": [
    "inflycia.head()"
   ]
  },
  {
   "cell_type": "code",
   "execution_count": 141,
   "metadata": {},
   "outputs": [
    {
     "data": {
      "text/plain": [
       "Q1    float64\n",
       "Q2    float64\n",
       "Q3    float64\n",
       "Q4    float64\n",
       "dtype: object"
      ]
     },
     "execution_count": 141,
     "metadata": {},
     "output_type": "execute_result"
    }
   ],
   "source": [
    "inflycia.dtypes"
   ]
  },
  {
   "cell_type": "code",
   "execution_count": 142,
   "metadata": {},
   "outputs": [],
   "source": [
    "inflycia = pd.DataFrame(inflycia.stack().reset_index())"
   ]
  },
  {
   "cell_type": "code",
   "execution_count": 143,
   "metadata": {},
   "outputs": [],
   "source": [
    "inflycia.year = inflycia.year.astype('str')"
   ]
  },
  {
   "cell_type": "code",
   "execution_count": 144,
   "metadata": {},
   "outputs": [],
   "source": [
    "inflycia['quarter'] = inflycia.year + inflycia.level_1"
   ]
  },
  {
   "cell_type": "code",
   "execution_count": 146,
   "metadata": {},
   "outputs": [],
   "source": [
    "inflycia.drop(['year', 'level_1'], axis=1, inplace=True)"
   ]
  },
  {
   "cell_type": "code",
   "execution_count": 148,
   "metadata": {},
   "outputs": [],
   "source": [
    "inflycia = inflycia.rename(columns=({0 : 'inflycia'}))"
   ]
  },
  {
   "cell_type": "code",
   "execution_count": 150,
   "metadata": {},
   "outputs": [],
   "source": [
    "df = df.merge(inflycia, how='left', on='quarter')"
   ]
  },
  {
   "cell_type": "code",
   "execution_count": 154,
   "metadata": {},
   "outputs": [],
   "source": [
    "df.drop(['zp', 'npo_sum_vsnos', 'balance'], axis=1, inplace=True)"
   ]
  },
  {
   "cell_type": "code",
   "execution_count": 156,
   "metadata": {},
   "outputs": [],
   "source": [
    "df.drop(['frst_pmnt', 'actv_prd_d'], axis=1, inplace=True)"
   ]
  },
  {
   "cell_type": "code",
   "execution_count": 165,
   "metadata": {},
   "outputs": [],
   "source": [
    "df.drop(['npo_account_id'], axis=1, inplace=True)"
   ]
  },
  {
   "cell_type": "code",
   "execution_count": 157,
   "metadata": {},
   "outputs": [
    {
     "name": "stdout",
     "output_type": "stream",
     "text": [
      "Top Absolute Correlations\n",
      "incm_per_qrtr        npo_sum_doxod          0.735480\n",
      "oprtn_sum_per_qrtr   oprtn_sum_per_year     0.691831\n",
      "email                accnt_pnsn_schm        0.687052\n",
      "pmnts_nmbr_per_qrtr  evry_qrtr_pmnt         0.672360\n",
      "phone_number         fact_addrss            0.666293\n",
      "lst_pmnt_rcnc_d      pmnts_nmbr_per_qrtr    0.643986\n",
      "oprtn_sum_per_qrtr   incm_per_year          0.638438\n",
      "mgd_payment_period   accnt_pnsn_schm        0.607482\n",
      "clnt_cprtn_time_d    lst_pmnt_rcnc_d        0.576992\n",
      "incm_per_qrtr        incm_per_year          0.572494\n",
      "dtype: float64\n"
     ]
    }
   ],
   "source": [
    "numeric_columns = df.select_dtypes(exclude='object').columns\n",
    "print(\"Top Absolute Correlations\")\n",
    "print(get_top_abs_correlations(df[numeric_columns], 10))"
   ]
  },
  {
   "cell_type": "code",
   "execution_count": 167,
   "metadata": {},
   "outputs": [],
   "source": [
    "df.bezrabotica = df.bezrabotica.astype('float')"
   ]
  },
  {
   "cell_type": "code",
   "execution_count": 174,
   "metadata": {},
   "outputs": [
    {
     "data": {
      "text/html": [
       "<div>\n",
       "<style scoped>\n",
       "    .dataframe tbody tr th:only-of-type {\n",
       "        vertical-align: middle;\n",
       "    }\n",
       "\n",
       "    .dataframe tbody tr th {\n",
       "        vertical-align: top;\n",
       "    }\n",
       "\n",
       "    .dataframe thead th {\n",
       "        text-align: right;\n",
       "    }\n",
       "</style>\n",
       "<table border=\"1\" class=\"dataframe\">\n",
       "  <thead>\n",
       "    <tr style=\"text-align: right;\">\n",
       "      <th></th>\n",
       "      <th>npo_accnts_nmbr</th>\n",
       "      <th>pmnts_type</th>\n",
       "      <th>year</th>\n",
       "      <th>quarter</th>\n",
       "      <th>gender</th>\n",
       "      <th>age</th>\n",
       "      <th>clnt_cprtn_time_d</th>\n",
       "      <th>lst_pmnt_rcnc_d</th>\n",
       "      <th>oprtn_sum_per_qrtr</th>\n",
       "      <th>oprtn_sum_per_year</th>\n",
       "      <th>...</th>\n",
       "      <th>fact_addrss</th>\n",
       "      <th>appl_mrkr</th>\n",
       "      <th>evry_qrtr_pmnt</th>\n",
       "      <th>churn</th>\n",
       "      <th>npo_sum_doxod</th>\n",
       "      <th>accnt_pnsn_schm</th>\n",
       "      <th>house_price</th>\n",
       "      <th>bezrabotica</th>\n",
       "      <th>potreb_price_x</th>\n",
       "      <th>inflycia</th>\n",
       "    </tr>\n",
       "  </thead>\n",
       "  <tbody>\n",
       "    <tr>\n",
       "      <th>0</th>\n",
       "      <td>1</td>\n",
       "      <td>2</td>\n",
       "      <td>2015</td>\n",
       "      <td>2015Q4</td>\n",
       "      <td>-1</td>\n",
       "      <td>39</td>\n",
       "      <td>1191</td>\n",
       "      <td>947</td>\n",
       "      <td>10646.13</td>\n",
       "      <td>104242.44</td>\n",
       "      <td>...</td>\n",
       "      <td>-1</td>\n",
       "      <td>0</td>\n",
       "      <td>0</td>\n",
       "      <td>0</td>\n",
       "      <td>0.00</td>\n",
       "      <td>62.0</td>\n",
       "      <td>99.7</td>\n",
       "      <td>5.6</td>\n",
       "      <td>100.69</td>\n",
       "      <td>15.416667</td>\n",
       "    </tr>\n",
       "    <tr>\n",
       "      <th>1</th>\n",
       "      <td>2</td>\n",
       "      <td>1</td>\n",
       "      <td>2022</td>\n",
       "      <td>2022Q2</td>\n",
       "      <td>1</td>\n",
       "      <td>47</td>\n",
       "      <td>801</td>\n",
       "      <td>31</td>\n",
       "      <td>4878.05</td>\n",
       "      <td>19512.20</td>\n",
       "      <td>...</td>\n",
       "      <td>1</td>\n",
       "      <td>0</td>\n",
       "      <td>1</td>\n",
       "      <td>0</td>\n",
       "      <td>0.00</td>\n",
       "      <td>11.0</td>\n",
       "      <td>121.0</td>\n",
       "      <td>3.9</td>\n",
       "      <td>103.10</td>\n",
       "      <td>17.213333</td>\n",
       "    </tr>\n",
       "    <tr>\n",
       "      <th>2</th>\n",
       "      <td>1</td>\n",
       "      <td>2</td>\n",
       "      <td>2020</td>\n",
       "      <td>2020Q4</td>\n",
       "      <td>1</td>\n",
       "      <td>48</td>\n",
       "      <td>7875</td>\n",
       "      <td>5844</td>\n",
       "      <td>88.76</td>\n",
       "      <td>88.76</td>\n",
       "      <td>...</td>\n",
       "      <td>1</td>\n",
       "      <td>0</td>\n",
       "      <td>0</td>\n",
       "      <td>0</td>\n",
       "      <td>88.76</td>\n",
       "      <td>354.0</td>\n",
       "      <td>112.0</td>\n",
       "      <td>5.8</td>\n",
       "      <td>100.36</td>\n",
       "      <td>4.023333</td>\n",
       "    </tr>\n",
       "    <tr>\n",
       "      <th>3</th>\n",
       "      <td>1</td>\n",
       "      <td>2</td>\n",
       "      <td>2012</td>\n",
       "      <td>2012Q4</td>\n",
       "      <td>1</td>\n",
       "      <td>38</td>\n",
       "      <td>3452</td>\n",
       "      <td>2557</td>\n",
       "      <td>217.67</td>\n",
       "      <td>217.67</td>\n",
       "      <td>...</td>\n",
       "      <td>1</td>\n",
       "      <td>0</td>\n",
       "      <td>0</td>\n",
       "      <td>0</td>\n",
       "      <td>217.66</td>\n",
       "      <td>0.0</td>\n",
       "      <td>110.7</td>\n",
       "      <td>5.5</td>\n",
       "      <td>100.45</td>\n",
       "      <td>6.533333</td>\n",
       "    </tr>\n",
       "    <tr>\n",
       "      <th>4</th>\n",
       "      <td>2</td>\n",
       "      <td>1</td>\n",
       "      <td>2018</td>\n",
       "      <td>2018Q2</td>\n",
       "      <td>-1</td>\n",
       "      <td>48</td>\n",
       "      <td>804</td>\n",
       "      <td>28</td>\n",
       "      <td>4181.24</td>\n",
       "      <td>25125.36</td>\n",
       "      <td>...</td>\n",
       "      <td>1</td>\n",
       "      <td>0</td>\n",
       "      <td>1</td>\n",
       "      <td>0</td>\n",
       "      <td>0.00</td>\n",
       "      <td>351.0</td>\n",
       "      <td>106.3</td>\n",
       "      <td>4.8</td>\n",
       "      <td>100.35</td>\n",
       "      <td>2.396667</td>\n",
       "    </tr>\n",
       "  </tbody>\n",
       "</table>\n",
       "<p>5 rows × 35 columns</p>\n",
       "</div>"
      ],
      "text/plain": [
       "   npo_accnts_nmbr  pmnts_type  year quarter  gender  age  clnt_cprtn_time_d  \\\n",
       "0                1           2  2015  2015Q4      -1   39               1191   \n",
       "1                2           1  2022  2022Q2       1   47                801   \n",
       "2                1           2  2020  2020Q4       1   48               7875   \n",
       "3                1           2  2012  2012Q4       1   38               3452   \n",
       "4                2           1  2018  2018Q2      -1   48                804   \n",
       "\n",
       "   lst_pmnt_rcnc_d  oprtn_sum_per_qrtr  oprtn_sum_per_year  ... fact_addrss  \\\n",
       "0              947            10646.13           104242.44  ...          -1   \n",
       "1               31             4878.05            19512.20  ...           1   \n",
       "2             5844               88.76               88.76  ...           1   \n",
       "3             2557              217.67              217.67  ...           1   \n",
       "4               28             4181.24            25125.36  ...           1   \n",
       "\n",
       "  appl_mrkr  evry_qrtr_pmnt  churn  npo_sum_doxod  accnt_pnsn_schm  \\\n",
       "0         0               0      0           0.00             62.0   \n",
       "1         0               1      0           0.00             11.0   \n",
       "2         0               0      0          88.76            354.0   \n",
       "3         0               0      0         217.66              0.0   \n",
       "4         0               1      0           0.00            351.0   \n",
       "\n",
       "   house_price  bezrabotica  potreb_price_x   inflycia  \n",
       "0         99.7          5.6          100.69  15.416667  \n",
       "1        121.0          3.9          103.10  17.213333  \n",
       "2        112.0          5.8          100.36   4.023333  \n",
       "3        110.7          5.5          100.45   6.533333  \n",
       "4        106.3          4.8          100.35   2.396667  \n",
       "\n",
       "[5 rows x 35 columns]"
      ]
     },
     "execution_count": 174,
     "metadata": {},
     "output_type": "execute_result"
    }
   ],
   "source": [
    "df.head()"
   ]
  },
  {
   "cell_type": "code",
   "execution_count": 175,
   "metadata": {},
   "outputs": [],
   "source": [
    "df.to_csv('train_zip_new_data_merged_preprocessed.csv')"
   ]
  },
  {
   "cell_type": "code",
   "execution_count": 169,
   "metadata": {},
   "outputs": [],
   "source": [
    "X = df.drop('churn', axis=1)\n",
    "Y = df['churn']\n",
    "ob_cols = X.select_dtypes('object').columns.to_list()"
   ]
  },
  {
   "cell_type": "code",
   "execution_count": null,
   "metadata": {},
   "outputs": [],
   "source": []
  },
  {
   "cell_type": "code",
   "execution_count": 161,
   "metadata": {},
   "outputs": [],
   "source": [
    "from catboost import CatBoostClassifier\n",
    "from sklearn.metrics import f1_score, accuracy_score, classification_report\n",
    "from sklearn.pipeline import Pipeline\n",
    "from sklearn.linear_model import LogisticRegression\n",
    "from sklearn.preprocessing import StandardScaler\n",
    "from sklearn.model_selection import train_test_split"
   ]
  },
  {
   "cell_type": "code",
   "execution_count": 170,
   "metadata": {},
   "outputs": [],
   "source": [
    "X_train, X_test, Y_train, Y_test = train_test_split(X, Y, random_state=0, test_size=0.2)"
   ]
  },
  {
   "cell_type": "code",
   "execution_count": 171,
   "metadata": {},
   "outputs": [
    {
     "name": "stdout",
     "output_type": "stream",
     "text": [
      "              precision    recall  f1-score   support\n",
      "\n",
      "           0     0.9912    0.9975    0.9943     19688\n",
      "           1     0.7340    0.4423    0.5520       312\n",
      "\n",
      "    accuracy                         0.9888     20000\n",
      "   macro avg     0.8626    0.7199    0.7732     20000\n",
      "weighted avg     0.9872    0.9888    0.9874     20000\n",
      "\n"
     ]
    }
   ],
   "source": [
    "cboost = CatBoostClassifier(verbose=0)\n",
    "\n",
    "cboost.fit(X_train,\n",
    "           Y_train,\n",
    "           cat_features=ob_cols)\n",
    "y_pred = cboost.predict(X_test)\n",
    "\n",
    "print(classification_report(Y_test, y_pred, digits=4))"
   ]
  },
  {
   "cell_type": "code",
   "execution_count": 176,
   "metadata": {},
   "outputs": [],
   "source": [
    "for col in ob_cols:\n",
    "    if df[col].nunique() < 5:\n",
    "        one_hot = pd.get_dummies(df[col], prefix=col, drop_first=True)\n",
    "        df = pd.concat((df.drop(col, axis=1), one_hot), axis=1)     \n",
    "    else:\n",
    "        mean_target = df.groupby(col)['churn'].mean()\n",
    "        df[col] = df[col].map(mean_target)"
   ]
  },
  {
   "cell_type": "code",
   "execution_count": 178,
   "metadata": {},
   "outputs": [],
   "source": [
    "data_scaled = df.copy()"
   ]
  },
  {
   "cell_type": "code",
   "execution_count": 179,
   "metadata": {},
   "outputs": [],
   "source": [
    "X = df.drop('churn', axis=1)\n",
    "Y = df['churn']\n",
    "X_train, X_test, Y_train, Y_test = train_test_split(X, Y, random_state=0, test_size=0.2)\n",
    "scaler = StandardScaler()\n",
    "X = scaler.fit_transform(X)\n",
    "X_train_scale, X_test_scale, Y_train_scale, Y_test_scale = train_test_split(X, Y, random_state=0, test_size=0.2)"
   ]
  },
  {
   "cell_type": "code",
   "execution_count": null,
   "metadata": {},
   "outputs": [],
   "source": [
    "model_reg = LogisticRegression()\n",
    "model_reg.fit(X_train, Y_train)\n",
    "y_pred = model_reg.predict(X_test)\n",
    "\n",
    "print(classification_report(Y_test, y_pred, digits=4))\n",
    "#0.9839"
   ]
  },
  {
   "cell_type": "code",
   "execution_count": 181,
   "metadata": {},
   "outputs": [
    {
     "name": "stdout",
     "output_type": "stream",
     "text": [
      "              precision    recall  f1-score   support\n",
      "\n",
      "           0     0.9874    0.9987    0.9930     19688\n",
      "           1     0.7011    0.1955    0.3058       312\n",
      "\n",
      "    accuracy                         0.9861     20000\n",
      "   macro avg     0.8443    0.5971    0.6494     20000\n",
      "weighted avg     0.9829    0.9861    0.9823     20000\n",
      "\n"
     ]
    }
   ],
   "source": [
    "model_reg = LogisticRegression()\n",
    "model_reg.fit(X_train_scale, Y_train_scale)\n",
    "y_pred = model_reg.predict(X_test_scale)\n",
    "\n",
    "print(classification_report(Y_test_scale, y_pred, digits=4))"
   ]
  },
  {
   "cell_type": "code",
   "execution_count": 182,
   "metadata": {},
   "outputs": [],
   "source": [
    "from sklearn.ensemble import GradientBoostingClassifier\n",
    "from sklearn.ensemble import RandomForestClassifier, BaggingClassifier\n",
    "from sklearn.tree import DecisionTreeClassifier"
   ]
  },
  {
   "cell_type": "code",
   "execution_count": 184,
   "metadata": {},
   "outputs": [
    {
     "name": "stdout",
     "output_type": "stream",
     "text": [
      "              precision    recall  f1-score   support\n",
      "\n",
      "           0     0.9930    0.9918    0.9924     19688\n",
      "           1     0.5194    0.5577    0.5379       312\n",
      "\n",
      "    accuracy                         0.9850     20000\n",
      "   macro avg     0.7562    0.7748    0.7651     20000\n",
      "weighted avg     0.9856    0.9850    0.9853     20000\n",
      "\n"
     ]
    }
   ],
   "source": [
    "tree = DecisionTreeClassifier()\n",
    "tree.fit(X_train_scale, Y_train_scale)\n",
    "\n",
    "y_pred = tree.predict(X_test_scale)\n",
    "\n",
    "print(classification_report(Y_test_scale, y_pred, digits=4))"
   ]
  },
  {
   "cell_type": "code",
   "execution_count": 186,
   "metadata": {},
   "outputs": [
    {
     "name": "stdout",
     "output_type": "stream",
     "text": [
      "              precision    recall  f1-score   support\n",
      "\n",
      "           0     0.9918    0.9986    0.9952     19688\n",
      "           1     0.8418    0.4776    0.6094       312\n",
      "\n",
      "    accuracy                         0.9905     20000\n",
      "   macro avg     0.9168    0.7381    0.8023     20000\n",
      "weighted avg     0.9894    0.9905    0.9891     20000\n",
      "\n"
     ]
    }
   ],
   "source": [
    "rf = RandomForestClassifier()\n",
    "rf.fit(X_train_scale, Y_train_scale)\n",
    "y_pred = rf.predict(X_test_scale)\n",
    "\n",
    "print(classification_report(Y_test_scale, y_pred, digits=4))"
   ]
  },
  {
   "cell_type": "code",
   "execution_count": 188,
   "metadata": {},
   "outputs": [
    {
     "name": "stdout",
     "output_type": "stream",
     "text": [
      "              precision    recall  f1-score   support\n",
      "\n",
      "           0     0.9928    0.9972    0.9950     19688\n",
      "           1     0.7545    0.5417    0.6306       312\n",
      "\n",
      "    accuracy                         0.9901     20000\n",
      "   macro avg     0.8736    0.7694    0.8128     20000\n",
      "weighted avg     0.9891    0.9901    0.9893     20000\n",
      "\n"
     ]
    }
   ],
   "source": [
    "boost = GradientBoostingClassifier()\n",
    "boost.fit(X_train_scale, Y_train_scale)\n",
    "\n",
    "y_pred = boost.predict(X_test_scale)\n",
    "\n",
    "print(classification_report(Y_test_scale, y_pred, digits=4))"
   ]
  },
  {
   "cell_type": "code",
   "execution_count": 189,
   "metadata": {},
   "outputs": [],
   "source": [
    "import xgboost as xgb"
   ]
  },
  {
   "cell_type": "code",
   "execution_count": 191,
   "metadata": {},
   "outputs": [
    {
     "name": "stdout",
     "output_type": "stream",
     "text": [
      "              precision    recall  f1-score   support\n",
      "\n",
      "           0     0.9931    0.9978    0.9955     19688\n",
      "           1     0.8037    0.5641    0.6629       312\n",
      "\n",
      "    accuracy                         0.9910     20000\n",
      "   macro avg     0.8984    0.7810    0.8292     20000\n",
      "weighted avg     0.9902    0.9910    0.9903     20000\n",
      "\n"
     ]
    }
   ],
   "source": [
    "xgb_model = xgb.XGBClassifier()\n",
    "xgb_model.fit(X_train_scale, Y_train_scale)\n",
    "y_pred = xgb_model.predict(X_test_scale)\n",
    "\n",
    "print(classification_report(Y_test_scale, y_pred, digits=4))"
   ]
  },
  {
   "cell_type": "code",
   "execution_count": 192,
   "metadata": {},
   "outputs": [
    {
     "name": "stdout",
     "output_type": "stream",
     "text": [
      "              precision    recall  f1-score   support\n",
      "\n",
      "           0     0.9930    0.9979    0.9955     19688\n",
      "           1     0.8093    0.5577    0.6603       312\n",
      "\n",
      "    accuracy                         0.9910     20000\n",
      "   macro avg     0.9012    0.7778    0.8279     20000\n",
      "weighted avg     0.9902    0.9910    0.9902     20000\n",
      "\n"
     ]
    }
   ],
   "source": [
    "cboost = CatBoostClassifier(verbose=0)\n",
    "\n",
    "cboost.fit(X_train,\n",
    "           Y_train)\n",
    "y_pred = cboost.predict(X_test)\n",
    "\n",
    "print(classification_report(Y_test, y_pred, digits=4))"
   ]
  },
  {
   "cell_type": "code",
   "execution_count": 193,
   "metadata": {},
   "outputs": [
    {
     "name": "stdout",
     "output_type": "stream",
     "text": [
      "              precision    recall  f1-score   support\n",
      "\n",
      "           0     0.9930    0.9979    0.9955     19688\n",
      "           1     0.8093    0.5577    0.6603       312\n",
      "\n",
      "    accuracy                         0.9910     20000\n",
      "   macro avg     0.9012    0.7778    0.8279     20000\n",
      "weighted avg     0.9902    0.9910    0.9902     20000\n",
      "\n"
     ]
    }
   ],
   "source": [
    "cboost = CatBoostClassifier(verbose=0)\n",
    "\n",
    "cboost.fit(X_train_scale,\n",
    "           Y_train_scale)\n",
    "y_pred = cboost.predict(X_test_scale)\n",
    "\n",
    "print(classification_report(Y_test_scale, y_pred, digits=4))"
   ]
  },
  {
   "cell_type": "code",
   "execution_count": null,
   "metadata": {},
   "outputs": [],
   "source": []
  }
 ],
 "metadata": {
  "kernelspec": {
   "display_name": "Python 3 (ipykernel)",
   "language": "python",
   "name": "python3"
  }
 },
 "nbformat": 4,
 "nbformat_minor": 2
}
